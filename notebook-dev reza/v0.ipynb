{
 "cells": [
  {
   "cell_type": "code",
   "execution_count": 36,
   "metadata": {},
   "outputs": [],
   "source": [
    "import pandas as pd\n",
    "import numpy as np\n",
    "from collections import Counter\n",
    "#sklearn\n",
    "from sklearn import preprocessing\n",
    "from sklearn.decomposition import LatentDirichletAllocation, NMF\n",
    "from sklearn.feature_extraction.text import CountVectorizer\n",
    "\n",
    "#nltk\n",
    "from nltk.corpus import stopwords"
   ]
  },
  {
   "cell_type": "code",
   "execution_count": 2,
   "metadata": {},
   "outputs": [],
   "source": [
    "df = pd.read_csv(\"../data/final_dataset.csv\")"
   ]
  },
  {
   "cell_type": "code",
   "execution_count": 3,
   "metadata": {},
   "outputs": [
    {
     "data": {
      "text/html": [
       "<div>\n",
       "<style scoped>\n",
       "    .dataframe tbody tr th:only-of-type {\n",
       "        vertical-align: middle;\n",
       "    }\n",
       "\n",
       "    .dataframe tbody tr th {\n",
       "        vertical-align: top;\n",
       "    }\n",
       "\n",
       "    .dataframe thead th {\n",
       "        text-align: right;\n",
       "    }\n",
       "</style>\n",
       "<table border=\"1\" class=\"dataframe\">\n",
       "  <thead>\n",
       "    <tr style=\"text-align: right;\">\n",
       "      <th></th>\n",
       "      <th>id</th>\n",
       "      <th>description</th>\n",
       "      <th>keywords</th>\n",
       "      <th>collection</th>\n",
       "      <th>production_countries</th>\n",
       "      <th>popularity</th>\n",
       "      <th>average_vote</th>\n",
       "      <th>num_votes</th>\n",
       "      <th>language</th>\n",
       "      <th>imdb_id</th>\n",
       "      <th>...</th>\n",
       "      <th>date</th>\n",
       "      <th>title</th>\n",
       "      <th>director</th>\n",
       "      <th>production_companies</th>\n",
       "      <th>cast</th>\n",
       "      <th>revenue</th>\n",
       "      <th>budget</th>\n",
       "      <th>description2</th>\n",
       "      <th>tagline</th>\n",
       "      <th>movie_classification</th>\n",
       "    </tr>\n",
       "  </thead>\n",
       "  <tbody>\n",
       "    <tr>\n",
       "      <th>0</th>\n",
       "      <td>2</td>\n",
       "      <td>Taisto Kasurinen is a Finnish coal miner whose...</td>\n",
       "      <td>underdog, prison, factory worker, prisoner, he...</td>\n",
       "      <td>NaN</td>\n",
       "      <td>Finland</td>\n",
       "      <td>3.860491</td>\n",
       "      <td>7.1</td>\n",
       "      <td>44.0</td>\n",
       "      <td>fi</td>\n",
       "      <td>tt0094675</td>\n",
       "      <td>...</td>\n",
       "      <td>1988-10-21</td>\n",
       "      <td>Ariel</td>\n",
       "      <td>Aki Kaurismäki</td>\n",
       "      <td>Villealfa Filmproduction Oy, Finnish Film Foun...</td>\n",
       "      <td>Turo Pajala, Susanna Haavisto, Matti Pellonpää...</td>\n",
       "      <td>0.0</td>\n",
       "      <td>0</td>\n",
       "      <td>A Finnish man goes to the city to find a job a...</td>\n",
       "      <td>NaN</td>\n",
       "      <td>unclassified</td>\n",
       "    </tr>\n",
       "    <tr>\n",
       "      <th>1</th>\n",
       "      <td>3</td>\n",
       "      <td>An episode in the life of Nikander, a garbage ...</td>\n",
       "      <td>salesclerk, helsinki, garbage, independent film</td>\n",
       "      <td>NaN</td>\n",
       "      <td>Finland</td>\n",
       "      <td>2.292110</td>\n",
       "      <td>7.1</td>\n",
       "      <td>35.0</td>\n",
       "      <td>fi</td>\n",
       "      <td>tt0092149</td>\n",
       "      <td>...</td>\n",
       "      <td>1986-10-16</td>\n",
       "      <td>Shadows in Paradise</td>\n",
       "      <td>Aki Kaurismäki</td>\n",
       "      <td>Villealfa Filmproduction Oy</td>\n",
       "      <td>Matti Pellonpää, Kati Outinen, Sakari Kuosmane...</td>\n",
       "      <td>0.0</td>\n",
       "      <td>0</td>\n",
       "      <td>An episode in the life of Nikander, a garbage ...</td>\n",
       "      <td>NaN</td>\n",
       "      <td>unclassified</td>\n",
       "    </tr>\n",
       "    <tr>\n",
       "      <th>2</th>\n",
       "      <td>5</td>\n",
       "      <td>It's Ted the Bellhop's first night on the job....</td>\n",
       "      <td>hotel, new year's eve, witch, bet, hotel room,...</td>\n",
       "      <td>NaN</td>\n",
       "      <td>United States of America</td>\n",
       "      <td>9.026586</td>\n",
       "      <td>6.5</td>\n",
       "      <td>539.0</td>\n",
       "      <td>en</td>\n",
       "      <td>tt0113101</td>\n",
       "      <td>...</td>\n",
       "      <td>1995-12-22</td>\n",
       "      <td>Four Rooms</td>\n",
       "      <td>Allison Anders, Alexandre Rockwell, Robert Rod...</td>\n",
       "      <td>Miramax Films, A Band Apart</td>\n",
       "      <td>Tim Roth, Antonio Banderas, Jennifer Beals, Ma...</td>\n",
       "      <td>4257354.0</td>\n",
       "      <td>4000000</td>\n",
       "      <td>Four interlocking tales that take place in a f...</td>\n",
       "      <td>Twelve outrageous guests. Four scandalous requ...</td>\n",
       "      <td>minor success</td>\n",
       "    </tr>\n",
       "    <tr>\n",
       "      <th>3</th>\n",
       "      <td>6</td>\n",
       "      <td>While racing to a boxing match, Frank, Mike, J...</td>\n",
       "      <td>chicago, drug dealer, boxing match, escape, on...</td>\n",
       "      <td>NaN</td>\n",
       "      <td>Japan, United States of America</td>\n",
       "      <td>5.538671</td>\n",
       "      <td>6.4</td>\n",
       "      <td>79.0</td>\n",
       "      <td>en</td>\n",
       "      <td>tt0107286</td>\n",
       "      <td>...</td>\n",
       "      <td>1993-10-15</td>\n",
       "      <td>Judgment Night</td>\n",
       "      <td>Stephen Hopkins</td>\n",
       "      <td>Universal Pictures, Largo Entertainment, JVC E...</td>\n",
       "      <td>Emilio Estevez, Cuba Gooding Jr., Denis Leary,...</td>\n",
       "      <td>12526677.0</td>\n",
       "      <td>0</td>\n",
       "      <td>Four friends on their way to a boxing match ge...</td>\n",
       "      <td>Don't move. Don't whisper. Don't even breathe.</td>\n",
       "      <td>unclassified</td>\n",
       "    </tr>\n",
       "    <tr>\n",
       "      <th>4</th>\n",
       "      <td>11</td>\n",
       "      <td>Princess Leia is captured and held hostage by ...</td>\n",
       "      <td>android, galaxy, hermit, death star, lightsabe...</td>\n",
       "      <td>Star Wars Collection</td>\n",
       "      <td>United States of America</td>\n",
       "      <td>42.149697</td>\n",
       "      <td>8.1</td>\n",
       "      <td>6778.0</td>\n",
       "      <td>en</td>\n",
       "      <td>tt0076759</td>\n",
       "      <td>...</td>\n",
       "      <td>1977-05-25</td>\n",
       "      <td>Star Wars: Episode IV - A New Hope</td>\n",
       "      <td>George Lucas</td>\n",
       "      <td>Lucasfilm, Twentieth Century Fox Film Corporation</td>\n",
       "      <td>Mark Hamill, Harrison Ford, Carrie Fisher, Pet...</td>\n",
       "      <td>775512064.0</td>\n",
       "      <td>11000000</td>\n",
       "      <td>Luke Skywalker joins forces with a Jedi Knight...</td>\n",
       "      <td>A long time ago in a galaxy far, far away...</td>\n",
       "      <td>super hit</td>\n",
       "    </tr>\n",
       "  </tbody>\n",
       "</table>\n",
       "<p>5 rows × 22 columns</p>\n",
       "</div>"
      ],
      "text/plain": [
       "   id                                        description  \\\n",
       "0   2  Taisto Kasurinen is a Finnish coal miner whose...   \n",
       "1   3  An episode in the life of Nikander, a garbage ...   \n",
       "2   5  It's Ted the Bellhop's first night on the job....   \n",
       "3   6  While racing to a boxing match, Frank, Mike, J...   \n",
       "4  11  Princess Leia is captured and held hostage by ...   \n",
       "\n",
       "                                            keywords            collection  \\\n",
       "0  underdog, prison, factory worker, prisoner, he...                   NaN   \n",
       "1    salesclerk, helsinki, garbage, independent film                   NaN   \n",
       "2  hotel, new year's eve, witch, bet, hotel room,...                   NaN   \n",
       "3  chicago, drug dealer, boxing match, escape, on...                   NaN   \n",
       "4  android, galaxy, hermit, death star, lightsabe...  Star Wars Collection   \n",
       "\n",
       "              production_countries  popularity  average_vote  num_votes  \\\n",
       "0                          Finland    3.860491           7.1       44.0   \n",
       "1                          Finland    2.292110           7.1       35.0   \n",
       "2         United States of America    9.026586           6.5      539.0   \n",
       "3  Japan, United States of America    5.538671           6.4       79.0   \n",
       "4         United States of America   42.149697           8.1     6778.0   \n",
       "\n",
       "  language    imdb_id  ...        date                               title  \\\n",
       "0       fi  tt0094675  ...  1988-10-21                               Ariel   \n",
       "1       fi  tt0092149  ...  1986-10-16                 Shadows in Paradise   \n",
       "2       en  tt0113101  ...  1995-12-22                          Four Rooms   \n",
       "3       en  tt0107286  ...  1993-10-15                      Judgment Night   \n",
       "4       en  tt0076759  ...  1977-05-25  Star Wars: Episode IV - A New Hope   \n",
       "\n",
       "                                            director  \\\n",
       "0                                     Aki Kaurismäki   \n",
       "1                                     Aki Kaurismäki   \n",
       "2  Allison Anders, Alexandre Rockwell, Robert Rod...   \n",
       "3                                    Stephen Hopkins   \n",
       "4                                       George Lucas   \n",
       "\n",
       "                                production_companies  \\\n",
       "0  Villealfa Filmproduction Oy, Finnish Film Foun...   \n",
       "1                        Villealfa Filmproduction Oy   \n",
       "2                        Miramax Films, A Band Apart   \n",
       "3  Universal Pictures, Largo Entertainment, JVC E...   \n",
       "4  Lucasfilm, Twentieth Century Fox Film Corporation   \n",
       "\n",
       "                                                cast      revenue    budget  \\\n",
       "0  Turo Pajala, Susanna Haavisto, Matti Pellonpää...          0.0         0   \n",
       "1  Matti Pellonpää, Kati Outinen, Sakari Kuosmane...          0.0         0   \n",
       "2  Tim Roth, Antonio Banderas, Jennifer Beals, Ma...    4257354.0   4000000   \n",
       "3  Emilio Estevez, Cuba Gooding Jr., Denis Leary,...   12526677.0         0   \n",
       "4  Mark Hamill, Harrison Ford, Carrie Fisher, Pet...  775512064.0  11000000   \n",
       "\n",
       "                                        description2  \\\n",
       "0  A Finnish man goes to the city to find a job a...   \n",
       "1  An episode in the life of Nikander, a garbage ...   \n",
       "2  Four interlocking tales that take place in a f...   \n",
       "3  Four friends on their way to a boxing match ge...   \n",
       "4  Luke Skywalker joins forces with a Jedi Knight...   \n",
       "\n",
       "                                             tagline movie_classification  \n",
       "0                                                NaN         unclassified  \n",
       "1                                                NaN         unclassified  \n",
       "2  Twelve outrageous guests. Four scandalous requ...        minor success  \n",
       "3     Don't move. Don't whisper. Don't even breathe.         unclassified  \n",
       "4       A long time ago in a galaxy far, far away...            super hit  \n",
       "\n",
       "[5 rows x 22 columns]"
      ]
     },
     "execution_count": 3,
     "metadata": {},
     "output_type": "execute_result"
    }
   ],
   "source": [
    "df.head()"
   ]
  },
  {
   "cell_type": "code",
   "execution_count": 4,
   "metadata": {
    "scrolled": true
   },
   "outputs": [
    {
     "data": {
      "text/plain": [
       "id                          0\n",
       "description               952\n",
       "keywords                14325\n",
       "collection              40926\n",
       "production_countries     6269\n",
       "popularity                  0\n",
       "average_vote                0\n",
       "num_votes                   0\n",
       "language                   11\n",
       "imdb_id                     0\n",
       "poster_url                377\n",
       "runtime                    15\n",
       "date                       72\n",
       "title                       0\n",
       "director                  119\n",
       "production_companies     9791\n",
       "cast                      652\n",
       "revenue                     0\n",
       "budget                      0\n",
       "description2              709\n",
       "tagline                 25011\n",
       "movie_classification        0\n",
       "dtype: int64"
      ]
     },
     "execution_count": 4,
     "metadata": {},
     "output_type": "execute_result"
    }
   ],
   "source": [
    "df.isnull().sum()"
   ]
  },
  {
   "cell_type": "code",
   "execution_count": 5,
   "metadata": {},
   "outputs": [],
   "source": [
    "df.drop(columns=[\"id\",\"collection\",\"poster_url\",\"date\",\"director\",\"cast\",\"imdb_id\",\"production_companies\"],inplace=True)"
   ]
  },
  {
   "cell_type": "code",
   "execution_count": 6,
   "metadata": {
    "scrolled": true
   },
   "outputs": [
    {
     "name": "stderr",
     "output_type": "stream",
     "text": [
      "/home/alo-reza/.pyenv/versions/3.6.6/envs/pygpu/lib/python3.6/site-packages/pandas/core/frame.py:4259: SettingWithCopyWarning: \n",
      "A value is trying to be set on a copy of a slice from a DataFrame\n",
      "\n",
      "See the caveats in the documentation: http://pandas.pydata.org/pandas-docs/stable/user_guide/indexing.html#returning-a-view-versus-a-copy\n",
      "  **kwargs\n"
     ]
    }
   ],
   "source": [
    "df[[\"description\",\"description2\"]].fillna(' ', inplace=True)"
   ]
  },
  {
   "cell_type": "code",
   "execution_count": 7,
   "metadata": {},
   "outputs": [],
   "source": [
    "df[\"new description\"] = df.apply(lambda x: x[\"description\"] if str(x[\"description\"])==str(x[\"description2\"]) \n",
    "                                 else str(x[\"description\"])+\" \"+ str(x[\"description2\"]),axis=1)"
   ]
  },
  {
   "cell_type": "code",
   "execution_count": 8,
   "metadata": {},
   "outputs": [],
   "source": [
    "df[\"text data\"] = df[\"title\"]+\" \"+df[\"keywords\"]+\" \"+df[\"tagline\"]+\" \"+df[\"new description\"]"
   ]
  },
  {
   "cell_type": "code",
   "execution_count": 9,
   "metadata": {},
   "outputs": [
    {
     "data": {
      "text/plain": [
       "Index(['description', 'keywords', 'production_countries', 'popularity',\n",
       "       'average_vote', 'num_votes', 'language', 'runtime', 'title', 'revenue',\n",
       "       'budget', 'description2', 'tagline', 'movie_classification',\n",
       "       'new description', 'text data'],\n",
       "      dtype='object')"
      ]
     },
     "execution_count": 9,
     "metadata": {},
     "output_type": "execute_result"
    }
   ],
   "source": [
    "df.columns"
   ]
  },
  {
   "cell_type": "code",
   "execution_count": 10,
   "metadata": {},
   "outputs": [],
   "source": [
    "col = ['popularity','average_vote','num_votes','runtime'\n",
    "       ,'revenue', 'budget', 'movie_classification','text data']"
   ]
  },
  {
   "cell_type": "code",
   "execution_count": 11,
   "metadata": {},
   "outputs": [],
   "source": [
    "df = df[col]"
   ]
  },
  {
   "cell_type": "code",
   "execution_count": 12,
   "metadata": {},
   "outputs": [
    {
     "data": {
      "text/plain": [
       "(45408, 8)"
      ]
     },
     "execution_count": 12,
     "metadata": {},
     "output_type": "execute_result"
    }
   ],
   "source": [
    "df.shape"
   ]
  },
  {
   "cell_type": "code",
   "execution_count": 13,
   "metadata": {},
   "outputs": [
    {
     "data": {
      "text/plain": [
       "popularity                  0\n",
       "average_vote                0\n",
       "num_votes                   0\n",
       "runtime                    15\n",
       "revenue                     0\n",
       "budget                      0\n",
       "movie_classification        0\n",
       "text data               28267\n",
       "dtype: int64"
      ]
     },
     "execution_count": 13,
     "metadata": {},
     "output_type": "execute_result"
    }
   ],
   "source": [
    "df.isnull().sum()"
   ]
  },
  {
   "cell_type": "code",
   "execution_count": 14,
   "metadata": {},
   "outputs": [],
   "source": [
    "df[\"text data\"].fillna(\" \",inplace=True)"
   ]
  },
  {
   "cell_type": "code",
   "execution_count": 15,
   "metadata": {},
   "outputs": [],
   "source": [
    "df[\"runtime\"].fillna(0,inplace = True)"
   ]
  },
  {
   "cell_type": "code",
   "execution_count": 16,
   "metadata": {},
   "outputs": [
    {
     "data": {
      "text/plain": [
       "popularity              0\n",
       "average_vote            0\n",
       "num_votes               0\n",
       "runtime                 0\n",
       "revenue                 0\n",
       "budget                  0\n",
       "movie_classification    0\n",
       "text data               0\n",
       "dtype: int64"
      ]
     },
     "execution_count": 16,
     "metadata": {},
     "output_type": "execute_result"
    }
   ],
   "source": [
    "df.isnull().sum()"
   ]
  },
  {
   "cell_type": "code",
   "execution_count": 17,
   "metadata": {},
   "outputs": [
    {
     "data": {
      "text/html": [
       "<div>\n",
       "<style scoped>\n",
       "    .dataframe tbody tr th:only-of-type {\n",
       "        vertical-align: middle;\n",
       "    }\n",
       "\n",
       "    .dataframe tbody tr th {\n",
       "        vertical-align: top;\n",
       "    }\n",
       "\n",
       "    .dataframe thead th {\n",
       "        text-align: right;\n",
       "    }\n",
       "</style>\n",
       "<table border=\"1\" class=\"dataframe\">\n",
       "  <thead>\n",
       "    <tr style=\"text-align: right;\">\n",
       "      <th></th>\n",
       "      <th>popularity</th>\n",
       "      <th>average_vote</th>\n",
       "      <th>num_votes</th>\n",
       "      <th>runtime</th>\n",
       "      <th>revenue</th>\n",
       "      <th>budget</th>\n",
       "      <th>movie_classification</th>\n",
       "      <th>text data</th>\n",
       "    </tr>\n",
       "  </thead>\n",
       "  <tbody>\n",
       "    <tr>\n",
       "      <th>0</th>\n",
       "      <td>3.860491</td>\n",
       "      <td>7.1</td>\n",
       "      <td>44.0</td>\n",
       "      <td>72.0</td>\n",
       "      <td>0.0</td>\n",
       "      <td>0</td>\n",
       "      <td>unclassified</td>\n",
       "      <td></td>\n",
       "    </tr>\n",
       "    <tr>\n",
       "      <th>1</th>\n",
       "      <td>2.292110</td>\n",
       "      <td>7.1</td>\n",
       "      <td>35.0</td>\n",
       "      <td>74.0</td>\n",
       "      <td>0.0</td>\n",
       "      <td>0</td>\n",
       "      <td>unclassified</td>\n",
       "      <td></td>\n",
       "    </tr>\n",
       "    <tr>\n",
       "      <th>2</th>\n",
       "      <td>9.026586</td>\n",
       "      <td>6.5</td>\n",
       "      <td>539.0</td>\n",
       "      <td>98.0</td>\n",
       "      <td>4257354.0</td>\n",
       "      <td>4000000</td>\n",
       "      <td>minor success</td>\n",
       "      <td>Four Rooms hotel, new year's eve, witch, bet, ...</td>\n",
       "    </tr>\n",
       "    <tr>\n",
       "      <th>3</th>\n",
       "      <td>5.538671</td>\n",
       "      <td>6.4</td>\n",
       "      <td>79.0</td>\n",
       "      <td>110.0</td>\n",
       "      <td>12526677.0</td>\n",
       "      <td>0</td>\n",
       "      <td>unclassified</td>\n",
       "      <td>Judgment Night chicago, drug dealer, boxing ma...</td>\n",
       "    </tr>\n",
       "    <tr>\n",
       "      <th>4</th>\n",
       "      <td>42.149697</td>\n",
       "      <td>8.1</td>\n",
       "      <td>6778.0</td>\n",
       "      <td>121.0</td>\n",
       "      <td>775512064.0</td>\n",
       "      <td>11000000</td>\n",
       "      <td>super hit</td>\n",
       "      <td>Star Wars: Episode IV - A New Hope android, ga...</td>\n",
       "    </tr>\n",
       "  </tbody>\n",
       "</table>\n",
       "</div>"
      ],
      "text/plain": [
       "   popularity  average_vote  num_votes  runtime      revenue    budget  \\\n",
       "0    3.860491           7.1       44.0     72.0          0.0         0   \n",
       "1    2.292110           7.1       35.0     74.0          0.0         0   \n",
       "2    9.026586           6.5      539.0     98.0    4257354.0   4000000   \n",
       "3    5.538671           6.4       79.0    110.0   12526677.0         0   \n",
       "4   42.149697           8.1     6778.0    121.0  775512064.0  11000000   \n",
       "\n",
       "  movie_classification                                          text data  \n",
       "0         unclassified                                                     \n",
       "1         unclassified                                                     \n",
       "2        minor success  Four Rooms hotel, new year's eve, witch, bet, ...  \n",
       "3         unclassified  Judgment Night chicago, drug dealer, boxing ma...  \n",
       "4            super hit  Star Wars: Episode IV - A New Hope android, ga...  "
      ]
     },
     "execution_count": 17,
     "metadata": {},
     "output_type": "execute_result"
    }
   ],
   "source": [
    "df.head()"
   ]
  },
  {
   "cell_type": "code",
   "execution_count": 18,
   "metadata": {},
   "outputs": [
    {
     "data": {
      "text/plain": [
       "Index(['popularity', 'average_vote', 'num_votes', 'runtime', 'revenue',\n",
       "       'budget', 'movie_classification', 'text data'],\n",
       "      dtype='object')"
      ]
     },
     "execution_count": 18,
     "metadata": {},
     "output_type": "execute_result"
    }
   ],
   "source": [
    "df.columns"
   ]
  },
  {
   "cell_type": "code",
   "execution_count": 19,
   "metadata": {},
   "outputs": [],
   "source": [
    "minmax = preprocessing.MinMaxScaler()\n",
    "col = ['popularity', 'average_vote', 'num_votes', 'runtime', 'revenue','budget']\n",
    "df[col] = minmax.fit_transform(df[col])"
   ]
  },
  {
   "cell_type": "code",
   "execution_count": 20,
   "metadata": {},
   "outputs": [
    {
     "data": {
      "text/plain": [
       "LatentDirichletAllocation(batch_size=128, doc_topic_prior=None,\n",
       "                          evaluate_every=-1, learning_decay=0.7,\n",
       "                          learning_method='batch', learning_offset=10.0,\n",
       "                          max_doc_update_iter=100, max_iter=10,\n",
       "                          mean_change_tol=0.001, n_components=10, n_jobs=None,\n",
       "                          perp_tol=0.1, random_state=None,\n",
       "                          topic_word_prior=None, total_samples=1000000.0,\n",
       "                          verbose=0)"
      ]
     },
     "execution_count": 20,
     "metadata": {},
     "output_type": "execute_result"
    }
   ],
   "source": [
    "stop_words = stopwords.words(\"english\")\n",
    "vectorizer = CountVectorizer(stop_words=stop_words)\n",
    "model = vectorizer.fit(df['text data'])\n",
    "docs = vectorizer.transform(df['text data'])\n",
    "lda = LatentDirichletAllocation(10)\n",
    "lda.fit(docs)"
   ]
  },
  {
   "cell_type": "code",
   "execution_count": 21,
   "metadata": {},
   "outputs": [],
   "source": [
    "lda_df = pd.DataFrame(lda.transform(docs))"
   ]
  },
  {
   "cell_type": "code",
   "execution_count": 22,
   "metadata": {},
   "outputs": [
    {
     "data": {
      "text/html": [
       "<div>\n",
       "<style scoped>\n",
       "    .dataframe tbody tr th:only-of-type {\n",
       "        vertical-align: middle;\n",
       "    }\n",
       "\n",
       "    .dataframe tbody tr th {\n",
       "        vertical-align: top;\n",
       "    }\n",
       "\n",
       "    .dataframe thead th {\n",
       "        text-align: right;\n",
       "    }\n",
       "</style>\n",
       "<table border=\"1\" class=\"dataframe\">\n",
       "  <thead>\n",
       "    <tr style=\"text-align: right;\">\n",
       "      <th></th>\n",
       "      <th>0</th>\n",
       "      <th>1</th>\n",
       "      <th>2</th>\n",
       "      <th>3</th>\n",
       "      <th>4</th>\n",
       "      <th>5</th>\n",
       "      <th>6</th>\n",
       "      <th>7</th>\n",
       "      <th>8</th>\n",
       "      <th>9</th>\n",
       "    </tr>\n",
       "  </thead>\n",
       "  <tbody>\n",
       "    <tr>\n",
       "      <th>count</th>\n",
       "      <td>45408.000000</td>\n",
       "      <td>45408.000000</td>\n",
       "      <td>45408.000000</td>\n",
       "      <td>45408.000000</td>\n",
       "      <td>45408.000000</td>\n",
       "      <td>45408.000000</td>\n",
       "      <td>45408.000000</td>\n",
       "      <td>45408.000000</td>\n",
       "      <td>45408.000000</td>\n",
       "      <td>45408.000000</td>\n",
       "    </tr>\n",
       "    <tr>\n",
       "      <th>mean</th>\n",
       "      <td>0.084582</td>\n",
       "      <td>0.149626</td>\n",
       "      <td>0.088495</td>\n",
       "      <td>0.091373</td>\n",
       "      <td>0.112268</td>\n",
       "      <td>0.087337</td>\n",
       "      <td>0.099602</td>\n",
       "      <td>0.090799</td>\n",
       "      <td>0.088662</td>\n",
       "      <td>0.107255</td>\n",
       "    </tr>\n",
       "    <tr>\n",
       "      <th>std</th>\n",
       "      <td>0.095690</td>\n",
       "      <td>0.187337</td>\n",
       "      <td>0.103091</td>\n",
       "      <td>0.111782</td>\n",
       "      <td>0.140838</td>\n",
       "      <td>0.104004</td>\n",
       "      <td>0.119488</td>\n",
       "      <td>0.110425</td>\n",
       "      <td>0.104729</td>\n",
       "      <td>0.135504</td>\n",
       "    </tr>\n",
       "    <tr>\n",
       "      <th>min</th>\n",
       "      <td>0.000118</td>\n",
       "      <td>0.000273</td>\n",
       "      <td>0.000279</td>\n",
       "      <td>0.000118</td>\n",
       "      <td>0.000118</td>\n",
       "      <td>0.000118</td>\n",
       "      <td>0.000118</td>\n",
       "      <td>0.000118</td>\n",
       "      <td>0.000118</td>\n",
       "      <td>0.000265</td>\n",
       "    </tr>\n",
       "    <tr>\n",
       "      <th>25%</th>\n",
       "      <td>0.002703</td>\n",
       "      <td>0.100000</td>\n",
       "      <td>0.002858</td>\n",
       "      <td>0.002858</td>\n",
       "      <td>0.058628</td>\n",
       "      <td>0.002778</td>\n",
       "      <td>0.003846</td>\n",
       "      <td>0.002858</td>\n",
       "      <td>0.002858</td>\n",
       "      <td>0.004349</td>\n",
       "    </tr>\n",
       "    <tr>\n",
       "      <th>50%</th>\n",
       "      <td>0.100000</td>\n",
       "      <td>0.100000</td>\n",
       "      <td>0.100000</td>\n",
       "      <td>0.100000</td>\n",
       "      <td>0.100000</td>\n",
       "      <td>0.100000</td>\n",
       "      <td>0.100000</td>\n",
       "      <td>0.100000</td>\n",
       "      <td>0.100000</td>\n",
       "      <td>0.100000</td>\n",
       "    </tr>\n",
       "    <tr>\n",
       "      <th>75%</th>\n",
       "      <td>0.100000</td>\n",
       "      <td>0.100000</td>\n",
       "      <td>0.100000</td>\n",
       "      <td>0.100000</td>\n",
       "      <td>0.100000</td>\n",
       "      <td>0.100000</td>\n",
       "      <td>0.100000</td>\n",
       "      <td>0.100000</td>\n",
       "      <td>0.100000</td>\n",
       "      <td>0.100000</td>\n",
       "    </tr>\n",
       "    <tr>\n",
       "      <th>max</th>\n",
       "      <td>0.993705</td>\n",
       "      <td>0.995889</td>\n",
       "      <td>0.996295</td>\n",
       "      <td>0.994266</td>\n",
       "      <td>0.992621</td>\n",
       "      <td>0.995566</td>\n",
       "      <td>0.992967</td>\n",
       "      <td>0.996511</td>\n",
       "      <td>0.993282</td>\n",
       "      <td>0.994577</td>\n",
       "    </tr>\n",
       "  </tbody>\n",
       "</table>\n",
       "</div>"
      ],
      "text/plain": [
       "                  0             1             2             3             4  \\\n",
       "count  45408.000000  45408.000000  45408.000000  45408.000000  45408.000000   \n",
       "mean       0.084582      0.149626      0.088495      0.091373      0.112268   \n",
       "std        0.095690      0.187337      0.103091      0.111782      0.140838   \n",
       "min        0.000118      0.000273      0.000279      0.000118      0.000118   \n",
       "25%        0.002703      0.100000      0.002858      0.002858      0.058628   \n",
       "50%        0.100000      0.100000      0.100000      0.100000      0.100000   \n",
       "75%        0.100000      0.100000      0.100000      0.100000      0.100000   \n",
       "max        0.993705      0.995889      0.996295      0.994266      0.992621   \n",
       "\n",
       "                  5             6             7             8             9  \n",
       "count  45408.000000  45408.000000  45408.000000  45408.000000  45408.000000  \n",
       "mean       0.087337      0.099602      0.090799      0.088662      0.107255  \n",
       "std        0.104004      0.119488      0.110425      0.104729      0.135504  \n",
       "min        0.000118      0.000118      0.000118      0.000118      0.000265  \n",
       "25%        0.002778      0.003846      0.002858      0.002858      0.004349  \n",
       "50%        0.100000      0.100000      0.100000      0.100000      0.100000  \n",
       "75%        0.100000      0.100000      0.100000      0.100000      0.100000  \n",
       "max        0.995566      0.992967      0.996511      0.993282      0.994577  "
      ]
     },
     "execution_count": 22,
     "metadata": {},
     "output_type": "execute_result"
    }
   ],
   "source": [
    "lda_df.describe()"
   ]
  },
  {
   "cell_type": "code",
   "execution_count": 23,
   "metadata": {},
   "outputs": [
    {
     "data": {
      "text/plain": [
       "((45408, 8), (45408, 10))"
      ]
     },
     "execution_count": 23,
     "metadata": {},
     "output_type": "execute_result"
    }
   ],
   "source": [
    "df.shape,lda_df.shape"
   ]
  },
  {
   "cell_type": "code",
   "execution_count": 24,
   "metadata": {},
   "outputs": [],
   "source": [
    "df = pd.concat([df,lda_df],axis=1)"
   ]
  },
  {
   "cell_type": "code",
   "execution_count": 25,
   "metadata": {},
   "outputs": [],
   "source": [
    "from sklearn.model_selection import train_test_split\n",
    "from sklearn.linear_model import LogisticRegression"
   ]
  },
  {
   "cell_type": "code",
   "execution_count": 26,
   "metadata": {},
   "outputs": [],
   "source": [
    "X = df.drop(columns=[\"text data\",\"movie_classification\"])\n",
    "y = df[\"movie_classification\"]\n",
    "X_train, X_test, y_train, y_test = train_test_split(X,y,random_state=0,stratify = y)"
   ]
  },
  {
   "cell_type": "code",
   "execution_count": 27,
   "metadata": {},
   "outputs": [
    {
     "name": "stderr",
     "output_type": "stream",
     "text": [
      "/home/alo-reza/.pyenv/versions/3.6.6/envs/pygpu/lib/python3.6/site-packages/sklearn/linear_model/_logistic.py:939: ConvergenceWarning: lbfgs failed to converge (status=1):\n",
      "STOP: TOTAL NO. of ITERATIONS REACHED LIMIT.\n",
      "\n",
      "Increase the number of iterations (max_iter) or scale the data as shown in:\n",
      "    https://scikit-learn.org/stable/modules/preprocessing.html.\n",
      "Please also refer to the documentation for alternative solver options:\n",
      "    https://scikit-learn.org/stable/modules/linear_model.html#logistic-regression\n",
      "  extra_warning_msg=_LOGISTIC_SOLVER_CONVERGENCE_MSG)\n"
     ]
    }
   ],
   "source": [
    "clf = LogisticRegression(random_state=0).fit(X_train, y_train)"
   ]
  },
  {
   "cell_type": "code",
   "execution_count": 28,
   "metadata": {},
   "outputs": [
    {
     "data": {
      "text/plain": [
       "0.8683051444679352"
      ]
     },
     "execution_count": 28,
     "metadata": {},
     "output_type": "execute_result"
    }
   ],
   "source": [
    "clf.score(X_test,y_test)"
   ]
  },
  {
   "cell_type": "code",
   "execution_count": 29,
   "metadata": {},
   "outputs": [
    {
     "data": {
      "text/plain": [
       "((34056, 16), (34056,), (11352, 16), (11352,))"
      ]
     },
     "execution_count": 29,
     "metadata": {},
     "output_type": "execute_result"
    }
   ],
   "source": [
    "X_train.shape,y_train.shape,X_test.shape,y_test.shape"
   ]
  },
  {
   "cell_type": "code",
   "execution_count": 32,
   "metadata": {},
   "outputs": [
    {
     "data": {
      "text/plain": [
       "unclassified       28427\n",
       "minor success       1365\n",
       "box office bomb     1277\n",
       "super hit           1078\n",
       "flop                1024\n",
       "blockbuster          885\n",
       "Name: movie_classification, dtype: int64"
      ]
     },
     "execution_count": 32,
     "metadata": {},
     "output_type": "execute_result"
    }
   ],
   "source": [
    "y_train.value_counts()"
   ]
  },
  {
   "cell_type": "code",
   "execution_count": 33,
   "metadata": {},
   "outputs": [],
   "source": [
    "y_pred = clf.predict(X_test)"
   ]
  },
  {
   "cell_type": "code",
   "execution_count": 37,
   "metadata": {},
   "outputs": [
    {
     "data": {
      "text/plain": [
       "Counter({'unclassified': 10559,\n",
       "         'super hit': 176,\n",
       "         'minor success': 503,\n",
       "         'box office bomb': 39,\n",
       "         'blockbuster': 50,\n",
       "         'flop': 25})"
      ]
     },
     "execution_count": 37,
     "metadata": {},
     "output_type": "execute_result"
    }
   ],
   "source": [
    "Counter(y_pred)"
   ]
  },
  {
   "cell_type": "code",
   "execution_count": 38,
   "metadata": {},
   "outputs": [
    {
     "data": {
      "text/plain": [
       "unclassified       9476\n",
       "minor success       455\n",
       "box office bomb     426\n",
       "super hit           359\n",
       "flop                341\n",
       "blockbuster         295\n",
       "Name: movie_classification, dtype: int64"
      ]
     },
     "execution_count": 38,
     "metadata": {},
     "output_type": "execute_result"
    }
   ],
   "source": [
    "y_test.value_counts()"
   ]
  },
  {
   "cell_type": "code",
   "execution_count": 51,
   "metadata": {},
   "outputs": [],
   "source": [
    "from sklearn.metrics import multilabel_confusion_matrix,recall_score,precision_score"
   ]
  },
  {
   "cell_type": "code",
   "execution_count": 52,
   "metadata": {},
   "outputs": [
    {
     "data": {
      "text/plain": [
       "0.8367403982661797"
      ]
     },
     "execution_count": 52,
     "metadata": {},
     "output_type": "execute_result"
    }
   ],
   "source": [
    "precision_score(y_test,y_pred,average=\"weighted\")"
   ]
  },
  {
   "cell_type": "code",
   "execution_count": 50,
   "metadata": {},
   "outputs": [
    {
     "data": {
      "text/plain": [
       "0.8683051444679352"
      ]
     },
     "execution_count": 50,
     "metadata": {},
     "output_type": "execute_result"
    }
   ],
   "source": [
    "recall_score(y_test,y_pred,average=\"weighted\")"
   ]
  },
  {
   "cell_type": "code",
   "execution_count": null,
   "metadata": {},
   "outputs": [],
   "source": []
  }
 ],
 "metadata": {
  "kernelspec": {
   "display_name": "Python 3",
   "language": "python",
   "name": "python3"
  },
  "language_info": {
   "codemirror_mode": {
    "name": "ipython",
    "version": 3
   },
   "file_extension": ".py",
   "mimetype": "text/x-python",
   "name": "python",
   "nbconvert_exporter": "python",
   "pygments_lexer": "ipython3",
   "version": "3.6.6"
  }
 },
 "nbformat": 4,
 "nbformat_minor": 2
}
