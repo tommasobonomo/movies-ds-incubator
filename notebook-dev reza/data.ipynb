{
 "cells": [
  {
   "cell_type": "markdown",
   "metadata": {
    "colab_type": "text",
    "id": "Iex-uLrdaAUn"
   },
   "source": [
    "# The Movies Dataset\n",
    "\n",
    "<div align=\"left\">\n",
    "<a href=\"https://github.com/madewithml/incubator/blob/master/datasets/movies/data.ipynb\" role=\"button\"><img class=\"notebook-badge-image\" src=\"https://img.shields.io/static/v1?label=&amp;message=View%20On%20GitHub&amp;color=586069&amp;logo=github&amp;labelColor=2f363d\"></a>&nbsp;\n",
    "<a href=\"https://colab.research.google.com/github/madewithml/incubator/blob/master/movies/data.ipynb\"><img class=\"notebook-badge-image\" src=\"https://colab.research.google.com/assets/colab-badge.svg\" alt=\"Open In Colab\"></a>\n",
    "</div>"
   ]
  },
  {
   "cell_type": "markdown",
   "metadata": {
    "colab_type": "text",
    "id": "Jwa6uZd9agOh"
   },
   "source": [
    "## Download\n",
    "\n",
    "Download the data from the source to your file system so you can start exploring it. The official dataset is located [here](https://www.kaggle.com/rounakbanik/the-movies-dataset/data) but we **highly** recommend using our slightly cleaned version [here](https://drive.google.com/drive/folders/1ZGp7ORu9nA6l3PyNK_H0MGTXNl4sNMsA?usp=sharing) (where we combined movies, keywords and credits into one DataFrame)."
   ]
  },
  {
   "cell_type": "markdown",
   "metadata": {
    "colab_type": "text",
    "id": "-4BAxsphbOUw"
   },
   "source": [
    "We didn't do much preprocessing (because we want you to learn how to do that) but we did make sure the data formats are easier to handle etc. as the original dataset is a bit unconventionally stored (ex. they had a string of lists of dicts as values in a Pandas Dataframe which is hopefully something you never see in the real world)."
   ]
  },
  {
   "cell_type": "markdown",
   "metadata": {
    "colab_type": "text",
    "id": "qTQqSkYibgij"
   },
   "source": [
    "## Features\n",
    "\n",
    "Some light feature exploration on the different data CSVs."
   ]
  },
  {
   "cell_type": "code",
   "execution_count": 1,
   "metadata": {
    "colab": {},
    "colab_type": "code",
    "id": "pAvaOpZqbiSd"
   },
   "outputs": [],
   "source": [
    "import math\n",
    "import matplotlib.pyplot as plt\n",
    "import numpy as np\n",
    "import pandas as pd\n",
    "from pylab import rcParams"
   ]
  },
  {
   "cell_type": "markdown",
   "metadata": {
    "colab_type": "text",
    "id": "OaRBr7WKbu-f"
   },
   "source": [
    "### Movies\n",
    "\n",
    "Rich metadata about each movie including it's title, description, genres, etc."
   ]
  },
  {
   "cell_type": "code",
   "execution_count": 2,
   "metadata": {
    "colab": {
     "base_uri": "https://localhost:8080/",
     "height": 717
    },
    "colab_type": "code",
    "id": "bFdztqiJbzlG",
    "outputId": "7d556720-a45a-49b0-8b66-6d96d6f78c31"
   },
   "outputs": [
    {
     "data": {
      "text/html": [
       "<div>\n",
       "<style scoped>\n",
       "    .dataframe tbody tr th:only-of-type {\n",
       "        vertical-align: middle;\n",
       "    }\n",
       "\n",
       "    .dataframe tbody tr th {\n",
       "        vertical-align: top;\n",
       "    }\n",
       "\n",
       "    .dataframe thead th {\n",
       "        text-align: right;\n",
       "    }\n",
       "</style>\n",
       "<table border=\"1\" class=\"dataframe\">\n",
       "  <thead>\n",
       "    <tr style=\"text-align: right;\">\n",
       "      <th></th>\n",
       "      <th>id</th>\n",
       "      <th>title</th>\n",
       "      <th>tagline</th>\n",
       "      <th>description</th>\n",
       "      <th>genres</th>\n",
       "      <th>keywords</th>\n",
       "      <th>date</th>\n",
       "      <th>collection</th>\n",
       "      <th>runtime</th>\n",
       "      <th>revenue</th>\n",
       "      <th>...</th>\n",
       "      <th>director</th>\n",
       "      <th>cast</th>\n",
       "      <th>production_companies</th>\n",
       "      <th>production_countries</th>\n",
       "      <th>popularity</th>\n",
       "      <th>average_vote</th>\n",
       "      <th>num_votes</th>\n",
       "      <th>language</th>\n",
       "      <th>imdb_id</th>\n",
       "      <th>poster_url</th>\n",
       "    </tr>\n",
       "  </thead>\n",
       "  <tbody>\n",
       "    <tr>\n",
       "      <th>0</th>\n",
       "      <td>862</td>\n",
       "      <td>Toy Story</td>\n",
       "      <td>None</td>\n",
       "      <td>Led by Woody, Andy's toys live happily in his ...</td>\n",
       "      <td>animation, comedy, family</td>\n",
       "      <td>jealousy, toy, boy, friendship, friends, rival...</td>\n",
       "      <td>1995-10-30</td>\n",
       "      <td>Toy Story Collection</td>\n",
       "      <td>81</td>\n",
       "      <td>3.73554e+08</td>\n",
       "      <td>...</td>\n",
       "      <td>John Lasseter</td>\n",
       "      <td>Tom Hanks, Tim Allen, Don Rickles, Jim Varney,...</td>\n",
       "      <td>Pixar Animation Studios</td>\n",
       "      <td>United States of America</td>\n",
       "      <td>21.9469</td>\n",
       "      <td>7.7</td>\n",
       "      <td>5415</td>\n",
       "      <td>en</td>\n",
       "      <td>tt0114709</td>\n",
       "      <td>/rhIRbceoE9lR4veEXuwCC2wARtG.jpg</td>\n",
       "    </tr>\n",
       "    <tr>\n",
       "      <th>1</th>\n",
       "      <td>8844</td>\n",
       "      <td>Jumanji</td>\n",
       "      <td>Roll the dice and unleash the excitement!</td>\n",
       "      <td>When siblings Judy and Peter discover an encha...</td>\n",
       "      <td>adventure, fantasy, family</td>\n",
       "      <td>board game, disappearance, based on children's...</td>\n",
       "      <td>1995-12-15</td>\n",
       "      <td>None</td>\n",
       "      <td>104</td>\n",
       "      <td>2.62797e+08</td>\n",
       "      <td>...</td>\n",
       "      <td>Joe Johnston</td>\n",
       "      <td>Robin Williams, Jonathan Hyde, Kirsten Dunst, ...</td>\n",
       "      <td>TriStar Pictures, Teitler Film, Interscope Com...</td>\n",
       "      <td>United States of America</td>\n",
       "      <td>17.0155</td>\n",
       "      <td>6.9</td>\n",
       "      <td>2413</td>\n",
       "      <td>en</td>\n",
       "      <td>tt0113497</td>\n",
       "      <td>/vzmL6fP7aPKNKPRTFnZmiUfciyV.jpg</td>\n",
       "    </tr>\n",
       "    <tr>\n",
       "      <th>2</th>\n",
       "      <td>15602</td>\n",
       "      <td>Grumpier Old Men</td>\n",
       "      <td>Still Yelling. Still Fighting. Still Ready for...</td>\n",
       "      <td>A family wedding reignites the ancient feud be...</td>\n",
       "      <td>romance, comedy</td>\n",
       "      <td>fishing, best friend, duringcreditsstinger, ol...</td>\n",
       "      <td>1995-12-22</td>\n",
       "      <td>Grumpy Old Men Collection</td>\n",
       "      <td>101</td>\n",
       "      <td>0</td>\n",
       "      <td>...</td>\n",
       "      <td>Howard Deutch</td>\n",
       "      <td>Walter Matthau, Jack Lemmon, Ann-Margret, Soph...</td>\n",
       "      <td>Warner Bros., Lancaster Gate</td>\n",
       "      <td>United States of America</td>\n",
       "      <td>11.7129</td>\n",
       "      <td>6.5</td>\n",
       "      <td>92</td>\n",
       "      <td>en</td>\n",
       "      <td>tt0113228</td>\n",
       "      <td>/6ksm1sjKMFLbO7UY2i6G1ju9SML.jpg</td>\n",
       "    </tr>\n",
       "    <tr>\n",
       "      <th>3</th>\n",
       "      <td>31357</td>\n",
       "      <td>Waiting to Exhale</td>\n",
       "      <td>Friends are the people who let you be yourself...</td>\n",
       "      <td>Cheated on, mistreated and stepped on, the wom...</td>\n",
       "      <td>comedy, drama, romance</td>\n",
       "      <td>based on novel, interracial relationship, sing...</td>\n",
       "      <td>1995-12-22</td>\n",
       "      <td>None</td>\n",
       "      <td>127</td>\n",
       "      <td>8.14522e+07</td>\n",
       "      <td>...</td>\n",
       "      <td>Forest Whitaker</td>\n",
       "      <td>Whitney Houston, Angela Bassett, Loretta Devin...</td>\n",
       "      <td>Twentieth Century Fox Film Corporation</td>\n",
       "      <td>United States of America</td>\n",
       "      <td>3.85949</td>\n",
       "      <td>6.1</td>\n",
       "      <td>34</td>\n",
       "      <td>en</td>\n",
       "      <td>tt0114885</td>\n",
       "      <td>/16XOMpEaLWkrcPqSQqhTmeJuqQl.jpg</td>\n",
       "    </tr>\n",
       "    <tr>\n",
       "      <th>4</th>\n",
       "      <td>11862</td>\n",
       "      <td>Father of the Bride Part II</td>\n",
       "      <td>Just When His World Is Back To Normal... He's ...</td>\n",
       "      <td>Just when George Banks has recovered from his ...</td>\n",
       "      <td>comedy</td>\n",
       "      <td>baby, midlife crisis, confidence, aging, daugh...</td>\n",
       "      <td>1995-02-10</td>\n",
       "      <td>Father of the Bride Collection</td>\n",
       "      <td>106</td>\n",
       "      <td>7.65789e+07</td>\n",
       "      <td>...</td>\n",
       "      <td>Charles Shyer</td>\n",
       "      <td>Steve Martin, Diane Keaton, Martin Short, Kimb...</td>\n",
       "      <td>Sandollar Productions, Touchstone Pictures</td>\n",
       "      <td>United States of America</td>\n",
       "      <td>8.38752</td>\n",
       "      <td>5.7</td>\n",
       "      <td>173</td>\n",
       "      <td>en</td>\n",
       "      <td>tt0113041</td>\n",
       "      <td>/e64sOI48hQXyru7naBFyssKFxVd.jpg</td>\n",
       "    </tr>\n",
       "  </tbody>\n",
       "</table>\n",
       "<p>5 rows × 21 columns</p>\n",
       "</div>"
      ],
      "text/plain": [
       "      id                        title  \\\n",
       "0    862                    Toy Story   \n",
       "1   8844                      Jumanji   \n",
       "2  15602             Grumpier Old Men   \n",
       "3  31357            Waiting to Exhale   \n",
       "4  11862  Father of the Bride Part II   \n",
       "\n",
       "                                             tagline  \\\n",
       "0                                               None   \n",
       "1          Roll the dice and unleash the excitement!   \n",
       "2  Still Yelling. Still Fighting. Still Ready for...   \n",
       "3  Friends are the people who let you be yourself...   \n",
       "4  Just When His World Is Back To Normal... He's ...   \n",
       "\n",
       "                                         description  \\\n",
       "0  Led by Woody, Andy's toys live happily in his ...   \n",
       "1  When siblings Judy and Peter discover an encha...   \n",
       "2  A family wedding reignites the ancient feud be...   \n",
       "3  Cheated on, mistreated and stepped on, the wom...   \n",
       "4  Just when George Banks has recovered from his ...   \n",
       "\n",
       "                       genres  \\\n",
       "0   animation, comedy, family   \n",
       "1  adventure, fantasy, family   \n",
       "2             romance, comedy   \n",
       "3      comedy, drama, romance   \n",
       "4                      comedy   \n",
       "\n",
       "                                            keywords        date  \\\n",
       "0  jealousy, toy, boy, friendship, friends, rival...  1995-10-30   \n",
       "1  board game, disappearance, based on children's...  1995-12-15   \n",
       "2  fishing, best friend, duringcreditsstinger, ol...  1995-12-22   \n",
       "3  based on novel, interracial relationship, sing...  1995-12-22   \n",
       "4  baby, midlife crisis, confidence, aging, daugh...  1995-02-10   \n",
       "\n",
       "                       collection runtime      revenue  ...         director  \\\n",
       "0            Toy Story Collection      81  3.73554e+08  ...    John Lasseter   \n",
       "1                            None     104  2.62797e+08  ...     Joe Johnston   \n",
       "2       Grumpy Old Men Collection     101            0  ...    Howard Deutch   \n",
       "3                            None     127  8.14522e+07  ...  Forest Whitaker   \n",
       "4  Father of the Bride Collection     106  7.65789e+07  ...    Charles Shyer   \n",
       "\n",
       "                                                cast  \\\n",
       "0  Tom Hanks, Tim Allen, Don Rickles, Jim Varney,...   \n",
       "1  Robin Williams, Jonathan Hyde, Kirsten Dunst, ...   \n",
       "2  Walter Matthau, Jack Lemmon, Ann-Margret, Soph...   \n",
       "3  Whitney Houston, Angela Bassett, Loretta Devin...   \n",
       "4  Steve Martin, Diane Keaton, Martin Short, Kimb...   \n",
       "\n",
       "                                production_companies  \\\n",
       "0                            Pixar Animation Studios   \n",
       "1  TriStar Pictures, Teitler Film, Interscope Com...   \n",
       "2                       Warner Bros., Lancaster Gate   \n",
       "3             Twentieth Century Fox Film Corporation   \n",
       "4         Sandollar Productions, Touchstone Pictures   \n",
       "\n",
       "       production_countries popularity average_vote num_votes language  \\\n",
       "0  United States of America    21.9469          7.7      5415       en   \n",
       "1  United States of America    17.0155          6.9      2413       en   \n",
       "2  United States of America    11.7129          6.5        92       en   \n",
       "3  United States of America    3.85949          6.1        34       en   \n",
       "4  United States of America    8.38752          5.7       173       en   \n",
       "\n",
       "     imdb_id                        poster_url  \n",
       "0  tt0114709  /rhIRbceoE9lR4veEXuwCC2wARtG.jpg  \n",
       "1  tt0113497  /vzmL6fP7aPKNKPRTFnZmiUfciyV.jpg  \n",
       "2  tt0113228  /6ksm1sjKMFLbO7UY2i6G1ju9SML.jpg  \n",
       "3  tt0114885  /16XOMpEaLWkrcPqSQqhTmeJuqQl.jpg  \n",
       "4  tt0113041  /e64sOI48hQXyru7naBFyssKFxVd.jpg  \n",
       "\n",
       "[5 rows x 21 columns]"
      ]
     },
     "execution_count": 2,
     "metadata": {},
     "output_type": "execute_result"
    }
   ],
   "source": [
    "# Load movies\n",
    "movies = pd.read_csv(\"../data/drive/movies.csv\", header=0)\n",
    "movies = movies.replace({np.nan: None}) # replace NaN with None\n",
    "movies.head()"
   ]
  },
  {
   "cell_type": "code",
   "execution_count": 3,
   "metadata": {},
   "outputs": [
    {
     "data": {
      "text/plain": [
       "(46628, 21)"
      ]
     },
     "execution_count": 3,
     "metadata": {},
     "output_type": "execute_result"
    }
   ],
   "source": [
    "movies.shape"
   ]
  },
  {
   "cell_type": "code",
   "execution_count": 4,
   "metadata": {},
   "outputs": [
    {
     "data": {
      "text/plain": [
       "id                          0\n",
       "title                       4\n",
       "tagline                 25845\n",
       "description               995\n",
       "genres                   2524\n",
       "keywords                14889\n",
       "date                       88\n",
       "collection              42054\n",
       "runtime                   268\n",
       "revenue                     4\n",
       "budget                      0\n",
       "director                  917\n",
       "cast                     2491\n",
       "production_companies    12282\n",
       "production_countries     6496\n",
       "popularity                  4\n",
       "average_vote                4\n",
       "num_votes                   4\n",
       "language                   11\n",
       "imdb_id                    17\n",
       "poster_url                399\n",
       "dtype: int64"
      ]
     },
     "execution_count": 4,
     "metadata": {},
     "output_type": "execute_result"
    }
   ],
   "source": [
    "movies.isnull().sum()"
   ]
  },
  {
   "cell_type": "code",
   "execution_count": 5,
   "metadata": {},
   "outputs": [
    {
     "data": {
      "text/html": [
       "<div>\n",
       "<style scoped>\n",
       "    .dataframe tbody tr th:only-of-type {\n",
       "        vertical-align: middle;\n",
       "    }\n",
       "\n",
       "    .dataframe tbody tr th {\n",
       "        vertical-align: top;\n",
       "    }\n",
       "\n",
       "    .dataframe thead th {\n",
       "        text-align: right;\n",
       "    }\n",
       "</style>\n",
       "<table border=\"1\" class=\"dataframe\">\n",
       "  <thead>\n",
       "    <tr style=\"text-align: right;\">\n",
       "      <th></th>\n",
       "      <th>id</th>\n",
       "      <th>title</th>\n",
       "      <th>tagline</th>\n",
       "      <th>description</th>\n",
       "      <th>genres</th>\n",
       "      <th>keywords</th>\n",
       "      <th>date</th>\n",
       "      <th>collection</th>\n",
       "      <th>runtime</th>\n",
       "      <th>revenue</th>\n",
       "      <th>...</th>\n",
       "      <th>director</th>\n",
       "      <th>cast</th>\n",
       "      <th>production_companies</th>\n",
       "      <th>production_countries</th>\n",
       "      <th>popularity</th>\n",
       "      <th>average_vote</th>\n",
       "      <th>num_votes</th>\n",
       "      <th>language</th>\n",
       "      <th>imdb_id</th>\n",
       "      <th>poster_url</th>\n",
       "    </tr>\n",
       "  </thead>\n",
       "  <tbody>\n",
       "    <tr>\n",
       "      <th>2</th>\n",
       "      <td>15602</td>\n",
       "      <td>Grumpier Old Men</td>\n",
       "      <td>Still Yelling. Still Fighting. Still Ready for...</td>\n",
       "      <td>A family wedding reignites the ancient feud be...</td>\n",
       "      <td>romance, comedy</td>\n",
       "      <td>fishing, best friend, duringcreditsstinger, ol...</td>\n",
       "      <td>1995-12-22</td>\n",
       "      <td>Grumpy Old Men Collection</td>\n",
       "      <td>101</td>\n",
       "      <td>0</td>\n",
       "      <td>...</td>\n",
       "      <td>Howard Deutch</td>\n",
       "      <td>Walter Matthau, Jack Lemmon, Ann-Margret, Soph...</td>\n",
       "      <td>Warner Bros., Lancaster Gate</td>\n",
       "      <td>United States of America</td>\n",
       "      <td>11.7129</td>\n",
       "      <td>6.5</td>\n",
       "      <td>92</td>\n",
       "      <td>en</td>\n",
       "      <td>tt0113228</td>\n",
       "      <td>/6ksm1sjKMFLbO7UY2i6G1ju9SML.jpg</td>\n",
       "    </tr>\n",
       "    <tr>\n",
       "      <th>6</th>\n",
       "      <td>11860</td>\n",
       "      <td>Sabrina</td>\n",
       "      <td>You are cordially invited to the most surprisi...</td>\n",
       "      <td>An ugly duckling having undergone a remarkable...</td>\n",
       "      <td>comedy, romance</td>\n",
       "      <td>paris, brother brother relationship, chauffeur...</td>\n",
       "      <td>1995-12-15</td>\n",
       "      <td>None</td>\n",
       "      <td>127</td>\n",
       "      <td>0</td>\n",
       "      <td>...</td>\n",
       "      <td>Sydney Pollack</td>\n",
       "      <td>Harrison Ford, Julia Ormond, Greg Kinnear, Ang...</td>\n",
       "      <td>Paramount Pictures, Scott Rudin Productions, M...</td>\n",
       "      <td>Germany, United States of America</td>\n",
       "      <td>6.67728</td>\n",
       "      <td>6.2</td>\n",
       "      <td>141</td>\n",
       "      <td>en</td>\n",
       "      <td>tt0114319</td>\n",
       "      <td>/jQh15y5YB7bWz1NtffNZmRw0s9D.jpg</td>\n",
       "    </tr>\n",
       "    <tr>\n",
       "      <th>7</th>\n",
       "      <td>45325</td>\n",
       "      <td>Tom and Huck</td>\n",
       "      <td>The Original Bad Boys.</td>\n",
       "      <td>A mischievous young boy, Tom Sawyer, witnesses...</td>\n",
       "      <td>action, adventure, drama, family</td>\n",
       "      <td>None</td>\n",
       "      <td>1995-12-22</td>\n",
       "      <td>None</td>\n",
       "      <td>97</td>\n",
       "      <td>0</td>\n",
       "      <td>...</td>\n",
       "      <td>Peter Hewitt</td>\n",
       "      <td>Jonathan Taylor Thomas, Brad Renfro, Rachael L...</td>\n",
       "      <td>Walt Disney Pictures</td>\n",
       "      <td>United States of America</td>\n",
       "      <td>2.56116</td>\n",
       "      <td>5.4</td>\n",
       "      <td>45</td>\n",
       "      <td>en</td>\n",
       "      <td>tt0112302</td>\n",
       "      <td>/sGO5Qa55p7wTu7FJcX4H4xIVKvS.jpg</td>\n",
       "    </tr>\n",
       "    <tr>\n",
       "      <th>11</th>\n",
       "      <td>12110</td>\n",
       "      <td>Dracula: Dead and Loving It</td>\n",
       "      <td>None</td>\n",
       "      <td>When a lawyer shows up at the vampire's doorst...</td>\n",
       "      <td>comedy, horror</td>\n",
       "      <td>dracula, spoof</td>\n",
       "      <td>1995-12-22</td>\n",
       "      <td>None</td>\n",
       "      <td>88</td>\n",
       "      <td>0</td>\n",
       "      <td>...</td>\n",
       "      <td>Mel Brooks</td>\n",
       "      <td>Leslie Nielsen, Mel Brooks, Amy Yasbeck, Peter...</td>\n",
       "      <td>Columbia Pictures, Castle Rock Entertainment, ...</td>\n",
       "      <td>France, United States of America</td>\n",
       "      <td>5.43033</td>\n",
       "      <td>5.7</td>\n",
       "      <td>210</td>\n",
       "      <td>en</td>\n",
       "      <td>tt0112896</td>\n",
       "      <td>/xve4cgfYItnOhtzLYoTwTVy5FGr.jpg</td>\n",
       "    </tr>\n",
       "    <tr>\n",
       "      <th>21</th>\n",
       "      <td>1710</td>\n",
       "      <td>Copycat</td>\n",
       "      <td>One man is copying the most notorious killers ...</td>\n",
       "      <td>An agoraphobic psychologist and a female detec...</td>\n",
       "      <td>drama, thriller</td>\n",
       "      <td>police brutality, psychology, police operation...</td>\n",
       "      <td>1995-10-27</td>\n",
       "      <td>None</td>\n",
       "      <td>124</td>\n",
       "      <td>0</td>\n",
       "      <td>...</td>\n",
       "      <td>Jon Amiel</td>\n",
       "      <td>Sigourney Weaver, Holly Hunter, Will Patton, W...</td>\n",
       "      <td>Regency Enterprises, New Regency Pictures</td>\n",
       "      <td>United States of America</td>\n",
       "      <td>10.7018</td>\n",
       "      <td>6.5</td>\n",
       "      <td>199</td>\n",
       "      <td>en</td>\n",
       "      <td>tt0112722</td>\n",
       "      <td>/80czeJGSoik22fhtUM9WzyjUU4r.jpg</td>\n",
       "    </tr>\n",
       "    <tr>\n",
       "      <th>...</th>\n",
       "      <td>...</td>\n",
       "      <td>...</td>\n",
       "      <td>...</td>\n",
       "      <td>...</td>\n",
       "      <td>...</td>\n",
       "      <td>...</td>\n",
       "      <td>...</td>\n",
       "      <td>...</td>\n",
       "      <td>...</td>\n",
       "      <td>...</td>\n",
       "      <td>...</td>\n",
       "      <td>...</td>\n",
       "      <td>...</td>\n",
       "      <td>...</td>\n",
       "      <td>...</td>\n",
       "      <td>...</td>\n",
       "      <td>...</td>\n",
       "      <td>...</td>\n",
       "      <td>...</td>\n",
       "      <td>...</td>\n",
       "      <td>...</td>\n",
       "    </tr>\n",
       "    <tr>\n",
       "      <th>46623</th>\n",
       "      <td>439050</td>\n",
       "      <td>Subdue</td>\n",
       "      <td>Rising and falling between a man and woman</td>\n",
       "      <td>Rising and falling between a man and woman.</td>\n",
       "      <td>drama, family</td>\n",
       "      <td>tragic love</td>\n",
       "      <td>None</td>\n",
       "      <td>None</td>\n",
       "      <td>90</td>\n",
       "      <td>0</td>\n",
       "      <td>...</td>\n",
       "      <td>Hamid Nematollah</td>\n",
       "      <td>Leila Hatami, Kourosh Tahami, Elham Korda</td>\n",
       "      <td>None</td>\n",
       "      <td>Iran</td>\n",
       "      <td>0.072051</td>\n",
       "      <td>4</td>\n",
       "      <td>1</td>\n",
       "      <td>fa</td>\n",
       "      <td>tt6209470</td>\n",
       "      <td>/jldsYflnId4tTWPx8es3uzsB1I8.jpg</td>\n",
       "    </tr>\n",
       "    <tr>\n",
       "      <th>46624</th>\n",
       "      <td>111109</td>\n",
       "      <td>Century of Birthing</td>\n",
       "      <td>None</td>\n",
       "      <td>An artist struggles to finish his work while a...</td>\n",
       "      <td>drama</td>\n",
       "      <td>artist, play, pinoy</td>\n",
       "      <td>2011-11-17</td>\n",
       "      <td>None</td>\n",
       "      <td>360</td>\n",
       "      <td>0</td>\n",
       "      <td>...</td>\n",
       "      <td>Lav Diaz</td>\n",
       "      <td>Angel Aquino, Perry Dizon, Hazel Orencio, Joel...</td>\n",
       "      <td>Sine Olivia</td>\n",
       "      <td>Philippines</td>\n",
       "      <td>0.178241</td>\n",
       "      <td>9</td>\n",
       "      <td>3</td>\n",
       "      <td>tl</td>\n",
       "      <td>tt2028550</td>\n",
       "      <td>/xZkmxsNmYXJbKVsTRLLx3pqGHx7.jpg</td>\n",
       "    </tr>\n",
       "    <tr>\n",
       "      <th>46625</th>\n",
       "      <td>67758</td>\n",
       "      <td>Betrayal</td>\n",
       "      <td>A deadly game of wits.</td>\n",
       "      <td>When one of her hits goes wrong, a professiona...</td>\n",
       "      <td>action, drama, thriller</td>\n",
       "      <td>None</td>\n",
       "      <td>2003-08-01</td>\n",
       "      <td>None</td>\n",
       "      <td>90</td>\n",
       "      <td>0</td>\n",
       "      <td>...</td>\n",
       "      <td>Mark L. Lester</td>\n",
       "      <td>Erika Eleniak, Adam Baldwin, Julie du Page, Ja...</td>\n",
       "      <td>American World Pictures</td>\n",
       "      <td>United States of America</td>\n",
       "      <td>0.903007</td>\n",
       "      <td>3.8</td>\n",
       "      <td>6</td>\n",
       "      <td>en</td>\n",
       "      <td>tt0303758</td>\n",
       "      <td>/d5bX92nDsISNhu3ZT69uHwmfCGw.jpg</td>\n",
       "    </tr>\n",
       "    <tr>\n",
       "      <th>46626</th>\n",
       "      <td>227506</td>\n",
       "      <td>Satan Triumphant</td>\n",
       "      <td>None</td>\n",
       "      <td>In a small town live two brothers, one a minis...</td>\n",
       "      <td>None</td>\n",
       "      <td>None</td>\n",
       "      <td>1917-10-21</td>\n",
       "      <td>None</td>\n",
       "      <td>87</td>\n",
       "      <td>0</td>\n",
       "      <td>...</td>\n",
       "      <td>Yakov Protazanov</td>\n",
       "      <td>Iwan Mosschuchin, Nathalie Lissenko, Pavel Pav...</td>\n",
       "      <td>Yermoliev</td>\n",
       "      <td>Russia</td>\n",
       "      <td>0.003503</td>\n",
       "      <td>0</td>\n",
       "      <td>0</td>\n",
       "      <td>en</td>\n",
       "      <td>tt0008536</td>\n",
       "      <td>/aorBPO7ak8e8iJKT5OcqYxU3jlK.jpg</td>\n",
       "    </tr>\n",
       "    <tr>\n",
       "      <th>46627</th>\n",
       "      <td>461257</td>\n",
       "      <td>Queerama</td>\n",
       "      <td>None</td>\n",
       "      <td>50 years after decriminalisation of homosexual...</td>\n",
       "      <td>None</td>\n",
       "      <td>None</td>\n",
       "      <td>2017-06-09</td>\n",
       "      <td>None</td>\n",
       "      <td>75</td>\n",
       "      <td>0</td>\n",
       "      <td>...</td>\n",
       "      <td>Daisy Asquith</td>\n",
       "      <td>None</td>\n",
       "      <td>None</td>\n",
       "      <td>United Kingdom</td>\n",
       "      <td>0.163015</td>\n",
       "      <td>0</td>\n",
       "      <td>0</td>\n",
       "      <td>en</td>\n",
       "      <td>tt6980792</td>\n",
       "      <td>/s5UkZt6NTsrS7ZF0Rh8nzupRlIU.jpg</td>\n",
       "    </tr>\n",
       "  </tbody>\n",
       "</table>\n",
       "<p>39087 rows × 21 columns</p>\n",
       "</div>"
      ],
      "text/plain": [
       "           id                        title  \\\n",
       "2       15602             Grumpier Old Men   \n",
       "6       11860                      Sabrina   \n",
       "7       45325                 Tom and Huck   \n",
       "11      12110  Dracula: Dead and Loving It   \n",
       "21       1710                      Copycat   \n",
       "...       ...                          ...   \n",
       "46623  439050                       Subdue   \n",
       "46624  111109          Century of Birthing   \n",
       "46625   67758                     Betrayal   \n",
       "46626  227506             Satan Triumphant   \n",
       "46627  461257                     Queerama   \n",
       "\n",
       "                                                 tagline  \\\n",
       "2      Still Yelling. Still Fighting. Still Ready for...   \n",
       "6      You are cordially invited to the most surprisi...   \n",
       "7                                 The Original Bad Boys.   \n",
       "11                                                  None   \n",
       "21     One man is copying the most notorious killers ...   \n",
       "...                                                  ...   \n",
       "46623         Rising and falling between a man and woman   \n",
       "46624                                               None   \n",
       "46625                             A deadly game of wits.   \n",
       "46626                                               None   \n",
       "46627                                               None   \n",
       "\n",
       "                                             description  \\\n",
       "2      A family wedding reignites the ancient feud be...   \n",
       "6      An ugly duckling having undergone a remarkable...   \n",
       "7      A mischievous young boy, Tom Sawyer, witnesses...   \n",
       "11     When a lawyer shows up at the vampire's doorst...   \n",
       "21     An agoraphobic psychologist and a female detec...   \n",
       "...                                                  ...   \n",
       "46623        Rising and falling between a man and woman.   \n",
       "46624  An artist struggles to finish his work while a...   \n",
       "46625  When one of her hits goes wrong, a professiona...   \n",
       "46626  In a small town live two brothers, one a minis...   \n",
       "46627  50 years after decriminalisation of homosexual...   \n",
       "\n",
       "                                 genres  \\\n",
       "2                       romance, comedy   \n",
       "6                       comedy, romance   \n",
       "7      action, adventure, drama, family   \n",
       "11                       comedy, horror   \n",
       "21                      drama, thriller   \n",
       "...                                 ...   \n",
       "46623                     drama, family   \n",
       "46624                             drama   \n",
       "46625           action, drama, thriller   \n",
       "46626                              None   \n",
       "46627                              None   \n",
       "\n",
       "                                                keywords        date  \\\n",
       "2      fishing, best friend, duringcreditsstinger, ol...  1995-12-22   \n",
       "6      paris, brother brother relationship, chauffeur...  1995-12-15   \n",
       "7                                                   None  1995-12-22   \n",
       "11                                        dracula, spoof  1995-12-22   \n",
       "21     police brutality, psychology, police operation...  1995-10-27   \n",
       "...                                                  ...         ...   \n",
       "46623                                        tragic love        None   \n",
       "46624                                artist, play, pinoy  2011-11-17   \n",
       "46625                                               None  2003-08-01   \n",
       "46626                                               None  1917-10-21   \n",
       "46627                                               None  2017-06-09   \n",
       "\n",
       "                      collection runtime revenue  ...          director  \\\n",
       "2      Grumpy Old Men Collection     101       0  ...     Howard Deutch   \n",
       "6                           None     127       0  ...    Sydney Pollack   \n",
       "7                           None      97       0  ...      Peter Hewitt   \n",
       "11                          None      88       0  ...        Mel Brooks   \n",
       "21                          None     124       0  ...         Jon Amiel   \n",
       "...                          ...     ...     ...  ...               ...   \n",
       "46623                       None      90       0  ...  Hamid Nematollah   \n",
       "46624                       None     360       0  ...          Lav Diaz   \n",
       "46625                       None      90       0  ...    Mark L. Lester   \n",
       "46626                       None      87       0  ...  Yakov Protazanov   \n",
       "46627                       None      75       0  ...     Daisy Asquith   \n",
       "\n",
       "                                                    cast  \\\n",
       "2      Walter Matthau, Jack Lemmon, Ann-Margret, Soph...   \n",
       "6      Harrison Ford, Julia Ormond, Greg Kinnear, Ang...   \n",
       "7      Jonathan Taylor Thomas, Brad Renfro, Rachael L...   \n",
       "11     Leslie Nielsen, Mel Brooks, Amy Yasbeck, Peter...   \n",
       "21     Sigourney Weaver, Holly Hunter, Will Patton, W...   \n",
       "...                                                  ...   \n",
       "46623          Leila Hatami, Kourosh Tahami, Elham Korda   \n",
       "46624  Angel Aquino, Perry Dizon, Hazel Orencio, Joel...   \n",
       "46625  Erika Eleniak, Adam Baldwin, Julie du Page, Ja...   \n",
       "46626  Iwan Mosschuchin, Nathalie Lissenko, Pavel Pav...   \n",
       "46627                                               None   \n",
       "\n",
       "                                    production_companies  \\\n",
       "2                           Warner Bros., Lancaster Gate   \n",
       "6      Paramount Pictures, Scott Rudin Productions, M...   \n",
       "7                                   Walt Disney Pictures   \n",
       "11     Columbia Pictures, Castle Rock Entertainment, ...   \n",
       "21             Regency Enterprises, New Regency Pictures   \n",
       "...                                                  ...   \n",
       "46623                                               None   \n",
       "46624                                        Sine Olivia   \n",
       "46625                            American World Pictures   \n",
       "46626                                          Yermoliev   \n",
       "46627                                               None   \n",
       "\n",
       "                    production_countries popularity average_vote num_votes  \\\n",
       "2               United States of America    11.7129          6.5        92   \n",
       "6      Germany, United States of America    6.67728          6.2       141   \n",
       "7               United States of America    2.56116          5.4        45   \n",
       "11      France, United States of America    5.43033          5.7       210   \n",
       "21              United States of America    10.7018          6.5       199   \n",
       "...                                  ...        ...          ...       ...   \n",
       "46623                               Iran   0.072051            4         1   \n",
       "46624                        Philippines   0.178241            9         3   \n",
       "46625           United States of America   0.903007          3.8         6   \n",
       "46626                             Russia   0.003503            0         0   \n",
       "46627                     United Kingdom   0.163015            0         0   \n",
       "\n",
       "      language    imdb_id                        poster_url  \n",
       "2           en  tt0113228  /6ksm1sjKMFLbO7UY2i6G1ju9SML.jpg  \n",
       "6           en  tt0114319  /jQh15y5YB7bWz1NtffNZmRw0s9D.jpg  \n",
       "7           en  tt0112302  /sGO5Qa55p7wTu7FJcX4H4xIVKvS.jpg  \n",
       "11          en  tt0112896  /xve4cgfYItnOhtzLYoTwTVy5FGr.jpg  \n",
       "21          en  tt0112722  /80czeJGSoik22fhtUM9WzyjUU4r.jpg  \n",
       "...        ...        ...                               ...  \n",
       "46623       fa  tt6209470  /jldsYflnId4tTWPx8es3uzsB1I8.jpg  \n",
       "46624       tl  tt2028550  /xZkmxsNmYXJbKVsTRLLx3pqGHx7.jpg  \n",
       "46625       en  tt0303758  /d5bX92nDsISNhu3ZT69uHwmfCGw.jpg  \n",
       "46626       en  tt0008536  /aorBPO7ak8e8iJKT5OcqYxU3jlK.jpg  \n",
       "46627       en  tt6980792  /s5UkZt6NTsrS7ZF0Rh8nzupRlIU.jpg  \n",
       "\n",
       "[39087 rows x 21 columns]"
      ]
     },
     "execution_count": 5,
     "metadata": {},
     "output_type": "execute_result"
    }
   ],
   "source": [
    "movies[movies['revenue']==0]"
   ]
  },
  {
   "cell_type": "code",
   "execution_count": 6,
   "metadata": {},
   "outputs": [
    {
     "data": {
      "text/plain": [
       "(46628, 21)"
      ]
     },
     "execution_count": 6,
     "metadata": {},
     "output_type": "execute_result"
    }
   ],
   "source": [
    "movies.shape"
   ]
  },
  {
   "cell_type": "code",
   "execution_count": 7,
   "metadata": {},
   "outputs": [
    {
     "data": {
      "text/plain": [
       "7541"
      ]
     },
     "execution_count": 7,
     "metadata": {},
     "output_type": "execute_result"
    }
   ],
   "source": [
    "46628-39087"
   ]
  },
  {
   "cell_type": "code",
   "execution_count": 3,
   "metadata": {},
   "outputs": [
    {
     "data": {
      "text/plain": [
       "Index(['id', 'title', 'tagline', 'description', 'genres', 'keywords', 'date',\n",
       "       'collection', 'runtime', 'revenue', 'budget', 'director', 'cast',\n",
       "       'production_companies', 'production_countries', 'popularity',\n",
       "       'average_vote', 'num_votes', 'language', 'imdb_id', 'poster_url'],\n",
       "      dtype='object')"
      ]
     },
     "execution_count": 3,
     "metadata": {},
     "output_type": "execute_result"
    }
   ],
   "source": [
    "movies.columns"
   ]
  },
  {
   "cell_type": "code",
   "execution_count": 4,
   "metadata": {},
   "outputs": [
    {
     "data": {
      "text/html": [
       "<div>\n",
       "<style scoped>\n",
       "    .dataframe tbody tr th:only-of-type {\n",
       "        vertical-align: middle;\n",
       "    }\n",
       "\n",
       "    .dataframe tbody tr th {\n",
       "        vertical-align: top;\n",
       "    }\n",
       "\n",
       "    .dataframe thead th {\n",
       "        text-align: right;\n",
       "    }\n",
       "</style>\n",
       "<table border=\"1\" class=\"dataframe\">\n",
       "  <thead>\n",
       "    <tr style=\"text-align: right;\">\n",
       "      <th></th>\n",
       "      <th>title</th>\n",
       "      <th>tagline</th>\n",
       "      <th>description</th>\n",
       "      <th>keywords</th>\n",
       "      <th>genres</th>\n",
       "    </tr>\n",
       "  </thead>\n",
       "  <tbody>\n",
       "    <tr>\n",
       "      <th>0</th>\n",
       "      <td>Toy Story</td>\n",
       "      <td>None</td>\n",
       "      <td>Led by Woody, Andy's toys live happily in his ...</td>\n",
       "      <td>jealousy, toy, boy, friendship, friends, rival...</td>\n",
       "      <td>animation, comedy, family</td>\n",
       "    </tr>\n",
       "    <tr>\n",
       "      <th>1</th>\n",
       "      <td>Jumanji</td>\n",
       "      <td>Roll the dice and unleash the excitement!</td>\n",
       "      <td>When siblings Judy and Peter discover an encha...</td>\n",
       "      <td>board game, disappearance, based on children's...</td>\n",
       "      <td>adventure, fantasy, family</td>\n",
       "    </tr>\n",
       "    <tr>\n",
       "      <th>2</th>\n",
       "      <td>Grumpier Old Men</td>\n",
       "      <td>Still Yelling. Still Fighting. Still Ready for...</td>\n",
       "      <td>A family wedding reignites the ancient feud be...</td>\n",
       "      <td>fishing, best friend, duringcreditsstinger, ol...</td>\n",
       "      <td>romance, comedy</td>\n",
       "    </tr>\n",
       "    <tr>\n",
       "      <th>3</th>\n",
       "      <td>Waiting to Exhale</td>\n",
       "      <td>Friends are the people who let you be yourself...</td>\n",
       "      <td>Cheated on, mistreated and stepped on, the wom...</td>\n",
       "      <td>based on novel, interracial relationship, sing...</td>\n",
       "      <td>comedy, drama, romance</td>\n",
       "    </tr>\n",
       "    <tr>\n",
       "      <th>4</th>\n",
       "      <td>Father of the Bride Part II</td>\n",
       "      <td>Just When His World Is Back To Normal... He's ...</td>\n",
       "      <td>Just when George Banks has recovered from his ...</td>\n",
       "      <td>baby, midlife crisis, confidence, aging, daugh...</td>\n",
       "      <td>comedy</td>\n",
       "    </tr>\n",
       "    <tr>\n",
       "      <th>...</th>\n",
       "      <td>...</td>\n",
       "      <td>...</td>\n",
       "      <td>...</td>\n",
       "      <td>...</td>\n",
       "      <td>...</td>\n",
       "    </tr>\n",
       "    <tr>\n",
       "      <th>46623</th>\n",
       "      <td>Subdue</td>\n",
       "      <td>Rising and falling between a man and woman</td>\n",
       "      <td>Rising and falling between a man and woman.</td>\n",
       "      <td>tragic love</td>\n",
       "      <td>drama, family</td>\n",
       "    </tr>\n",
       "    <tr>\n",
       "      <th>46624</th>\n",
       "      <td>Century of Birthing</td>\n",
       "      <td>None</td>\n",
       "      <td>An artist struggles to finish his work while a...</td>\n",
       "      <td>artist, play, pinoy</td>\n",
       "      <td>drama</td>\n",
       "    </tr>\n",
       "    <tr>\n",
       "      <th>46625</th>\n",
       "      <td>Betrayal</td>\n",
       "      <td>A deadly game of wits.</td>\n",
       "      <td>When one of her hits goes wrong, a professiona...</td>\n",
       "      <td>None</td>\n",
       "      <td>action, drama, thriller</td>\n",
       "    </tr>\n",
       "    <tr>\n",
       "      <th>46626</th>\n",
       "      <td>Satan Triumphant</td>\n",
       "      <td>None</td>\n",
       "      <td>In a small town live two brothers, one a minis...</td>\n",
       "      <td>None</td>\n",
       "      <td>None</td>\n",
       "    </tr>\n",
       "    <tr>\n",
       "      <th>46627</th>\n",
       "      <td>Queerama</td>\n",
       "      <td>None</td>\n",
       "      <td>50 years after decriminalisation of homosexual...</td>\n",
       "      <td>None</td>\n",
       "      <td>None</td>\n",
       "    </tr>\n",
       "  </tbody>\n",
       "</table>\n",
       "<p>46628 rows × 5 columns</p>\n",
       "</div>"
      ],
      "text/plain": [
       "                             title  \\\n",
       "0                        Toy Story   \n",
       "1                          Jumanji   \n",
       "2                 Grumpier Old Men   \n",
       "3                Waiting to Exhale   \n",
       "4      Father of the Bride Part II   \n",
       "...                            ...   \n",
       "46623                       Subdue   \n",
       "46624          Century of Birthing   \n",
       "46625                     Betrayal   \n",
       "46626             Satan Triumphant   \n",
       "46627                     Queerama   \n",
       "\n",
       "                                                 tagline  \\\n",
       "0                                                   None   \n",
       "1              Roll the dice and unleash the excitement!   \n",
       "2      Still Yelling. Still Fighting. Still Ready for...   \n",
       "3      Friends are the people who let you be yourself...   \n",
       "4      Just When His World Is Back To Normal... He's ...   \n",
       "...                                                  ...   \n",
       "46623         Rising and falling between a man and woman   \n",
       "46624                                               None   \n",
       "46625                             A deadly game of wits.   \n",
       "46626                                               None   \n",
       "46627                                               None   \n",
       "\n",
       "                                             description  \\\n",
       "0      Led by Woody, Andy's toys live happily in his ...   \n",
       "1      When siblings Judy and Peter discover an encha...   \n",
       "2      A family wedding reignites the ancient feud be...   \n",
       "3      Cheated on, mistreated and stepped on, the wom...   \n",
       "4      Just when George Banks has recovered from his ...   \n",
       "...                                                  ...   \n",
       "46623        Rising and falling between a man and woman.   \n",
       "46624  An artist struggles to finish his work while a...   \n",
       "46625  When one of her hits goes wrong, a professiona...   \n",
       "46626  In a small town live two brothers, one a minis...   \n",
       "46627  50 years after decriminalisation of homosexual...   \n",
       "\n",
       "                                                keywords  \\\n",
       "0      jealousy, toy, boy, friendship, friends, rival...   \n",
       "1      board game, disappearance, based on children's...   \n",
       "2      fishing, best friend, duringcreditsstinger, ol...   \n",
       "3      based on novel, interracial relationship, sing...   \n",
       "4      baby, midlife crisis, confidence, aging, daugh...   \n",
       "...                                                  ...   \n",
       "46623                                        tragic love   \n",
       "46624                                artist, play, pinoy   \n",
       "46625                                               None   \n",
       "46626                                               None   \n",
       "46627                                               None   \n",
       "\n",
       "                           genres  \n",
       "0       animation, comedy, family  \n",
       "1      adventure, fantasy, family  \n",
       "2                 romance, comedy  \n",
       "3          comedy, drama, romance  \n",
       "4                          comedy  \n",
       "...                           ...  \n",
       "46623               drama, family  \n",
       "46624                       drama  \n",
       "46625     action, drama, thriller  \n",
       "46626                        None  \n",
       "46627                        None  \n",
       "\n",
       "[46628 rows x 5 columns]"
      ]
     },
     "execution_count": 4,
     "metadata": {},
     "output_type": "execute_result"
    }
   ],
   "source": [
    "movies[[\"title\",\"tagline\",\"description\",\"keywords\",\"genres\"]]"
   ]
  },
  {
   "cell_type": "code",
   "execution_count": 5,
   "metadata": {},
   "outputs": [],
   "source": [
    "movies[\"text_data\"] = movies[\"title\"] + \" \" + movies[\"tagline\"] + \" \" + movies[\"description\"] +  \" \" \\\n",
    "                    + movies[\"keywords\"] +  \" \" + movies[\"genres\"]"
   ]
  },
  {
   "cell_type": "code",
   "execution_count": 6,
   "metadata": {},
   "outputs": [
    {
     "data": {
      "text/html": [
       "<div>\n",
       "<style scoped>\n",
       "    .dataframe tbody tr th:only-of-type {\n",
       "        vertical-align: middle;\n",
       "    }\n",
       "\n",
       "    .dataframe tbody tr th {\n",
       "        vertical-align: top;\n",
       "    }\n",
       "\n",
       "    .dataframe thead th {\n",
       "        text-align: right;\n",
       "    }\n",
       "</style>\n",
       "<table border=\"1\" class=\"dataframe\">\n",
       "  <thead>\n",
       "    <tr style=\"text-align: right;\">\n",
       "      <th></th>\n",
       "      <th>text_data</th>\n",
       "    </tr>\n",
       "  </thead>\n",
       "  <tbody>\n",
       "    <tr>\n",
       "      <th>0</th>\n",
       "      <td>NaN</td>\n",
       "    </tr>\n",
       "    <tr>\n",
       "      <th>1</th>\n",
       "      <td>Jumanji Roll the dice and unleash the exciteme...</td>\n",
       "    </tr>\n",
       "    <tr>\n",
       "      <th>2</th>\n",
       "      <td>Grumpier Old Men Still Yelling. Still Fighting...</td>\n",
       "    </tr>\n",
       "    <tr>\n",
       "      <th>3</th>\n",
       "      <td>Waiting to Exhale Friends are the people who l...</td>\n",
       "    </tr>\n",
       "    <tr>\n",
       "      <th>4</th>\n",
       "      <td>Father of the Bride Part II Just When His Worl...</td>\n",
       "    </tr>\n",
       "    <tr>\n",
       "      <th>...</th>\n",
       "      <td>...</td>\n",
       "    </tr>\n",
       "    <tr>\n",
       "      <th>46623</th>\n",
       "      <td>Subdue Rising and falling between a man and wo...</td>\n",
       "    </tr>\n",
       "    <tr>\n",
       "      <th>46624</th>\n",
       "      <td>NaN</td>\n",
       "    </tr>\n",
       "    <tr>\n",
       "      <th>46625</th>\n",
       "      <td>NaN</td>\n",
       "    </tr>\n",
       "    <tr>\n",
       "      <th>46626</th>\n",
       "      <td>NaN</td>\n",
       "    </tr>\n",
       "    <tr>\n",
       "      <th>46627</th>\n",
       "      <td>NaN</td>\n",
       "    </tr>\n",
       "  </tbody>\n",
       "</table>\n",
       "<p>46628 rows × 1 columns</p>\n",
       "</div>"
      ],
      "text/plain": [
       "                                               text_data\n",
       "0                                                    NaN\n",
       "1      Jumanji Roll the dice and unleash the exciteme...\n",
       "2      Grumpier Old Men Still Yelling. Still Fighting...\n",
       "3      Waiting to Exhale Friends are the people who l...\n",
       "4      Father of the Bride Part II Just When His Worl...\n",
       "...                                                  ...\n",
       "46623  Subdue Rising and falling between a man and wo...\n",
       "46624                                                NaN\n",
       "46625                                                NaN\n",
       "46626                                                NaN\n",
       "46627                                                NaN\n",
       "\n",
       "[46628 rows x 1 columns]"
      ]
     },
     "execution_count": 6,
     "metadata": {},
     "output_type": "execute_result"
    }
   ],
   "source": [
    "movies[[\"text_data\"]]"
   ]
  },
  {
   "cell_type": "code",
   "execution_count": 7,
   "metadata": {
    "colab": {
     "base_uri": "https://localhost:8080/",
     "height": 34
    },
    "colab_type": "code",
    "id": "zTEajfD9cWff",
    "outputId": "d5249e95-0c09-4e15-d0ae-8e22f082092f"
   },
   "outputs": [
    {
     "name": "stdout",
     "output_type": "stream",
     "text": [
      "46628 movies in total.\n"
     ]
    }
   ],
   "source": [
    "# Total\n",
    "print (f\"{len(movies)} movies in total.\")"
   ]
  },
  {
   "cell_type": "code",
   "execution_count": 8,
   "metadata": {
    "colab": {
     "base_uri": "https://localhost:8080/",
     "height": 320
    },
    "colab_type": "code",
    "id": "7suejNB4cZ7y",
    "outputId": "b289b657-c08b-4828-8ee2-7b71b3535221"
   },
   "outputs": [
    {
     "name": "stdout",
     "output_type": "stream",
     "text": [
      "total of 20 unique genres from 93342 occurances.\n"
     ]
    },
    {
     "data": {
      "image/png": "[encoded data removed]",
      "text/plain": [
       "<Figure size 720x216 with 1 Axes>"
      ]
     },
     "metadata": {
      "needs_background": "light"
     },
     "output_type": "display_data"
    }
   ],
   "source": [
    "# Genres\n",
    "all_genres = [s.split(\", \") for s in movies[movies.genres.notnull()].genres]\n",
    "genres = [item for l in all_genres for item in l ]\n",
    "unique_genres = set(genres)\n",
    "print (f\"total of {len(unique_genres)} unique genres from {len(genres)} occurances.\")\n",
    "pd.Series(genres).value_counts().plot(kind='bar', figsize=(10, 3))\n",
    "plt.title(\"# of movies per genre\")\n",
    "plt.ylabel(\"# of movies\")\n",
    "plt.xlabel(\"genre\")\n",
    "plt.show()"
   ]
  },
  {
   "cell_type": "code",
   "execution_count": 9,
   "metadata": {
    "colab": {},
    "colab_type": "code",
    "id": "oosg8FCnfWVI"
   },
   "outputs": [],
   "source": [
    "def get_year(date):\n",
    "    year = None\n",
    "    if date:\n",
    "        year = date[:4]\n",
    "    return year"
   ]
  },
  {
   "cell_type": "code",
   "execution_count": 10,
   "metadata": {
    "colab": {},
    "colab_type": "code",
    "id": "aiO9z6NwfNdW"
   },
   "outputs": [],
   "source": [
    "# Year (example of basic feature engineering)\n",
    "movies['year'] = movies.date.apply(get_year) # same as movies.date.apply(lambda date: get_year(date))"
   ]
  },
  {
   "cell_type": "code",
   "execution_count": 11,
   "metadata": {
    "colab": {
     "base_uri": "https://localhost:8080/",
     "height": 334
    },
    "colab_type": "code",
    "id": "pMpHNrOzcy1q",
    "outputId": "8704c92d-76cc-4ca6-f01f-50113bdd88d7"
   },
   "outputs": [
    {
     "name": "stdout",
     "output_type": "stream",
     "text": [
      "Total of 135 uinque years from 1874 to 2020\n"
     ]
    },
    {
     "data": {
      "image/png": "[encoded data removed]",
      "text/plain": [
       "<Figure size 2160x360 with 1 Axes>"
      ]
     },
     "metadata": {
      "needs_background": "light"
     },
     "output_type": "display_data"
    }
   ],
   "source": [
    "# Years\n",
    "years = movies[movies.year.notnull()].year # get rows where year is not None\n",
    "print (f\"Total of {len(set(years))} uinque years from {min(years)} to {max(years)}\")\n",
    "pd.Series(years).value_counts().sort_index().plot(kind='bar', figsize=(30, 5))\n",
    "plt.title(\"# of movies over time\")\n",
    "plt.ylabel(\"# of movies\")\n",
    "plt.xlabel(\"year\")\n",
    "plt.show()"
   ]
  },
  {
   "cell_type": "code",
   "execution_count": 12,
   "metadata": {
    "colab": {
     "base_uri": "https://localhost:8080/",
     "height": 85
    },
    "colab_type": "code",
    "id": "x6zna8Lxlc8U",
    "outputId": "92995dca-2f0f-47c9-b59d-1951c0ae82f7"
   },
   "outputs": [
    {
     "name": "stdout",
     "output_type": "stream",
     "text": [
      "Most popular movies:\n",
      " ['Minions' 'Wonder Woman' 'Beauty and the Beast' 'Baby Driver'\n",
      " 'Big Hero 6' 'Deadpool' 'Guardians of the Galaxy Vol. 2' 'Avatar'\n",
      " 'John Wick' 'Gone Girl']\n"
     ]
    }
   ],
   "source": [
    "# Sort by popularity\n",
    "sorted_by_popularity = movies.sort_values(by='popularity', ascending=False)\n",
    "print (\"Most popular movies:\\n\", sorted_by_popularity['title'].values[:10])"
   ]
  },
  {
   "cell_type": "code",
   "execution_count": 13,
   "metadata": {
    "colab": {
     "base_uri": "https://localhost:8080/",
     "height": 299
    },
    "colab_type": "code",
    "id": "3MUTBmsE7ZzG",
    "outputId": "8f65a559-cb80-4916-d3bc-28fdda01d280"
   },
   "outputs": [
    {
     "data": {
      "text/html": [
       "<img src=\"http://image.tmdb.org/t/p/w185/rhIRbceoE9lR4veEXuwCC2wARtG.jpg\">"
      ],
      "text/plain": [
       "<IPython.core.display.HTML object>"
      ]
     },
     "metadata": {},
     "output_type": "display_data"
    }
   ],
   "source": [
    "# Get poster image\n",
    "from IPython.core.display import display, HTML\n",
    "prefix_url = 'http://image.tmdb.org/t/p/'\n",
    "poster_sizes = [\"w92\", \"w154\", \"w185\", \"w342\", \"w500\", \"w780\", \"original\"]\n",
    "full_url = prefix_url + poster_sizes[2] + movies.poster_url[0]\n",
    "display(HTML(f'<img src=\"{full_url}\">'))"
   ]
  },
  {
   "cell_type": "markdown",
   "metadata": {
    "colab_type": "text",
    "id": "SJuApUPxnZNR"
   },
   "source": [
    "### Ratings\n",
    "\n",
    "User ratings for each movie. We are using the smaller set of ratings (subset of 100,000 ratings from 700 users on 9,000 movies.) but you can download the full version (26 million ratings from 270,000 users for all 45,000 movies) from the [source](https://www.kaggle.com/rounakbanik/the-movies-dataset/data). "
   ]
  },
  {
   "cell_type": "code",
   "execution_count": 14,
   "metadata": {
    "colab": {
     "base_uri": "https://localhost:8080/",
     "height": 204
    },
    "colab_type": "code",
    "id": "OONPWedbmvWL",
    "outputId": "d1e4de20-2c9b-4215-aa3b-4e4861cdafc0"
   },
   "outputs": [
    {
     "data": {
      "text/html": [
       "<div>\n",
       "<style scoped>\n",
       "    .dataframe tbody tr th:only-of-type {\n",
       "        vertical-align: middle;\n",
       "    }\n",
       "\n",
       "    .dataframe tbody tr th {\n",
       "        vertical-align: top;\n",
       "    }\n",
       "\n",
       "    .dataframe thead th {\n",
       "        text-align: right;\n",
       "    }\n",
       "</style>\n",
       "<table border=\"1\" class=\"dataframe\">\n",
       "  <thead>\n",
       "    <tr style=\"text-align: right;\">\n",
       "      <th></th>\n",
       "      <th>userId</th>\n",
       "      <th>movieId</th>\n",
       "      <th>rating</th>\n",
       "      <th>timestamp</th>\n",
       "    </tr>\n",
       "  </thead>\n",
       "  <tbody>\n",
       "    <tr>\n",
       "      <th>0</th>\n",
       "      <td>1</td>\n",
       "      <td>31</td>\n",
       "      <td>2.5</td>\n",
       "      <td>1260759144</td>\n",
       "    </tr>\n",
       "    <tr>\n",
       "      <th>1</th>\n",
       "      <td>1</td>\n",
       "      <td>1029</td>\n",
       "      <td>3.0</td>\n",
       "      <td>1260759179</td>\n",
       "    </tr>\n",
       "    <tr>\n",
       "      <th>2</th>\n",
       "      <td>1</td>\n",
       "      <td>1061</td>\n",
       "      <td>3.0</td>\n",
       "      <td>1260759182</td>\n",
       "    </tr>\n",
       "    <tr>\n",
       "      <th>3</th>\n",
       "      <td>1</td>\n",
       "      <td>1129</td>\n",
       "      <td>2.0</td>\n",
       "      <td>1260759185</td>\n",
       "    </tr>\n",
       "    <tr>\n",
       "      <th>4</th>\n",
       "      <td>1</td>\n",
       "      <td>1172</td>\n",
       "      <td>4.0</td>\n",
       "      <td>1260759205</td>\n",
       "    </tr>\n",
       "  </tbody>\n",
       "</table>\n",
       "</div>"
      ],
      "text/plain": [
       "   userId  movieId  rating   timestamp\n",
       "0       1       31     2.5  1260759144\n",
       "1       1     1029     3.0  1260759179\n",
       "2       1     1061     3.0  1260759182\n",
       "3       1     1129     2.0  1260759185\n",
       "4       1     1172     4.0  1260759205"
      ]
     },
     "execution_count": 14,
     "metadata": {},
     "output_type": "execute_result"
    }
   ],
   "source": [
    "# Load ratings\n",
    "ratings = pd.read_csv(\"../data/drive/ratings_small.csv\", header=0)\n",
    "ratings.head()"
   ]
  },
  {
   "cell_type": "markdown",
   "metadata": {
    "colab_type": "text",
    "id": "DuKBFhYM1705"
   },
   "source": [
    "The first row in the dataframe above can be read as the following: userId `1` voted `2.5` on movieId `31` at timestamp `1260759144`."
   ]
  },
  {
   "cell_type": "code",
   "execution_count": 15,
   "metadata": {
    "colab": {
     "base_uri": "https://localhost:8080/",
     "height": 346
    },
    "colab_type": "code",
    "id": "I2WaidX8n3VS",
    "outputId": "7fa3e4d9-c56f-4dd6-ad60-31d867a3a5a0"
   },
   "outputs": [
    {
     "name": "stdout",
     "output_type": "stream",
     "text": [
      "count    100004.000000\n",
      "mean          3.543608\n",
      "std           1.058064\n",
      "min           0.500000\n",
      "25%           3.000000\n",
      "50%           4.000000\n",
      "75%           4.000000\n",
      "max           5.000000\n",
      "Name: rating, dtype: float64\n"
     ]
    },
    {
     "data": {
      "image/png": "[encoded data removed]",
      "text/plain": [
       "<Figure size 360x144 with 1 Axes>"
      ]
     },
     "metadata": {
      "needs_background": "light"
     },
     "output_type": "display_data"
    }
   ],
   "source": [
    "# Distribution of ratings\n",
    "print (ratings['rating'].describe())\n",
    "pd.Series(ratings['rating']).value_counts().sort_index().plot(kind='bar', figsize=(5, 2))\n",
    "plt.title(\"Distribution of ratings\")\n",
    "plt.ylabel(\"# of movies\")\n",
    "plt.xlabel(\"rating\")\n",
    "plt.show()"
   ]
  },
  {
   "cell_type": "markdown",
   "metadata": {
    "colab_type": "text",
    "id": "sJSQZp3Z0ZF5"
   },
   "source": [
    "## Project ideas\n",
    "\n",
    "Details and resources for different project directions using this dataset. When you're developing your models, start with simple approaches first and then slowly add complexity. You should clearly document (README, articles and [Weights and Biases reports](https://www.youtube.com/watch?v=o2dOSIDDr1w)) and save your progression from simple to more complex models so your audience can see the improvements. The ability to write well and document your thinking process is a core skill to have in research and industry."
   ]
  },
  {
   "cell_type": "markdown",
   "metadata": {
    "colab_type": "text",
    "id": "3rRBPthW0cLb"
   },
   "source": [
    "- **Moderate Projects** \n",
    "\n",
    "    - **[Exploratory analysis](https://madewithml.com/projects/160/programming-probabilistically/)**: relationships between staff/revenue, popularity/genre, etc. These could be simple statistical tests to validate some hypothesis (ex. action movies get better ratings than horror movies). This project can also involve a lot of exploratory analysis. \n",
    "        - People should not dismiss this project because this kind of statistical analysis is **very prevalent** in the industry. Not everything is about using deep learning to predict classes and it's kind of analysis that many marketing, advertising, science, etc. industries utilize every day to make their decisions.\n",
    "\n",
    "    - **[Text classification](https://madewithml.com/topics/text-classification/)**: multi-class classification of movie genres using title, ratings, etc. You can also be very creative here and try to get more metadata like movie descriptions from online using the ids provided in the dataset.\n",
    "        - When you're developing your models, start with simple approaches first and then slowly add complexity. For example, start with analyzing the text as tokens and using [logistic regression](https://madewithml.com/topics/logistic-regression/). Then explore [embeddings](https://madewithml.com/topics/embeddings/) with [CNNs](https://madewithml.com/topics/convolutional-neural-networks/) and [RNNs](https://madewithml.com/topics/recurrent-neural-networks/) and eventually attempt to use contextualized embeddings, pretrained [Transformers](https://madewithml.com/topics/transformers/) from [HuggingFace](https://madewithml.com/search-results/?tags=huggingface), etc.\n",
    "\n",
    "    - **Miscellaneous**: predict numerical statistics like revenue, popularity, etc. given title, genre, production companies, etc. Here you can start with simple models like [linear regression]() and then try out ensemble methods like [random forests]() and evetually use neural networks. If you have time, you can even explore more recent methods that offer the performance of large networks with the interpretability of simples models - for example: [TabNet](https://madewithml.com/projects/1001/tabnet-attentive-interpretable-tabular-learning/) or [Neural Backed Decision Trees](https://madewithml.com/projects/659/neural-backed-decision-trees/)."
   ]
  },
  {
   "cell_type": "markdown",
   "metadata": {
    "colab_type": "text",
    "id": "IsxRjRtt1SLJ"
   },
   "source": [
    "- **Challenging projects**\n",
    "    - [**Recommendation systems**](https://madewithml.com/topics/recommendation-systems/): recommend a movie based on liked movies. There are a lot of different approaches here but the most common technique will be content based. Ask the user to select movies that they like (from the dataset) and then recommend similar movies (based on genres, ratings, cast, crew, etc.) that they'd enjoy. \n",
    "\n",
    "    - [**Text generation**](https://madewithml.com/topics/text-generation/): generate the `tagline` or `overview` from movie title, genre, poster image, etc. or vice versa. You should definitely leverage pretrained language models here and then you can fine-tune using text from this dataset. \n",
    "\n",
    "    - [**Named entity recognition**](https://madewithml.com/topics/named-entity-recognition/): identify entities in movie titles and descriptions. This dataset doesn't come with any labeled entities however you can use a trained NER model to extract relevant entites that model can handle. This isn't much of an application so if you do choose this project, we suggest extending this to things like few-shot NER using embeddings, etc.\n",
    "\n",
    "    - [**Few-shot learning**](https://madewithml.com/topics/few-shot-learning/): identify genres using one or just a few samples, also check out [self-supervision](https://madewithml.com/search-results/?tags=self-supervised-learning&tags=natural-language-processing) techniques in NLP where you can create meaningful tasks with the data that extract relevant signal from the latent space which can then be used for classification with very few samples. "
   ]
  },
  {
   "cell_type": "markdown",
   "metadata": {
    "colab_type": "text",
    "id": "IgCBLj5S1jhZ"
   },
   "source": [
    "---\n",
    "Learn, explore and build at <a href=\"https://madewithml.com/\">Made With ML</a>.\n",
    "\n",
    "<div align=\"left\">\n",
    "<a class=\"ai-header-badge\" target=\"_blank\" href=\"https://github.com/madewithml/basics\"><img src=\"https://img.shields.io/github/stars/madewithml/basics.svg?style=social&label=Star\"></a>&nbsp;\n",
    "<a class=\"ai-header-badge\" target=\"_blank\" href=\"https://www.linkedin.com/company/madewithml\"><img src=\"https://img.shields.io/badge/style--5eba00.svg?label=LinkedIn&logo=linkedin&style=social\"></a>&nbsp;\n",
    "<a class=\"ai-header-badge\" target=\"_blank\" href=\"https://www.youtube.com/channel/UCaVCnFQXS7PYMoYZu3KdC0Q?sub_confirmation=1\"><img src=\"https://img.shields.io/badge/style--5eba00.svg?label=YouTube&logo=youtube&style=social\"></a>&nbsp;<a class=\"ai-header-badge\" target=\"_blank\" href=\"https://twitter.com/madewithml\"><img src=\"https://img.shields.io/twitter/follow/madewithml.svg?label=Follow&style=social\"></a>\n",
    "</div>\n",
    "             "
   ]
  }
 ],
 "metadata": {
  "colab": {
   "collapsed_sections": [],
   "name": "data.ipynb",
   "provenance": [],
   "toc_visible": true
  },
  "kernelspec": {
   "display_name": "Python 3",
   "language": "python",
   "name": "python3"
  },
  "language_info": {
   "codemirror_mode": {
    "name": "ipython",
    "version": 3
   },
   "file_extension": ".py",
   "mimetype": "text/x-python",
   "name": "python",
   "nbconvert_exporter": "python",
   "pygments_lexer": "ipython3",
   "version": "3.6.6"
  }
 },
 "nbformat": 4,
 "nbformat_minor": 1
}
