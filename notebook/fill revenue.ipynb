{
 "cells": [
  {
   "cell_type": "code",
   "execution_count": 1,
   "metadata": {
    "colab": {},
    "colab_type": "code",
    "id": "pAvaOpZqbiSd"
   },
   "outputs": [],
   "source": [
    "import numpy as np\n",
    "import pandas as pd\n",
    "import requests\n",
    "from tqdm import tqdm\n",
    "tqdm.pandas()"
   ]
  },
  {
   "cell_type": "code",
   "execution_count": 2,
   "metadata": {
    "colab": {
     "base_uri": "https://localhost:8080/",
     "height": 717
    },
    "colab_type": "code",
    "id": "bFdztqiJbzlG",
    "outputId": "7d556720-a45a-49b0-8b66-6d96d6f78c31"
   },
   "outputs": [
    {
     "data": {
      "text/html": [
       "<div>\n",
       "<style scoped>\n",
       "    .dataframe tbody tr th:only-of-type {\n",
       "        vertical-align: middle;\n",
       "    }\n",
       "\n",
       "    .dataframe tbody tr th {\n",
       "        vertical-align: top;\n",
       "    }\n",
       "\n",
       "    .dataframe thead th {\n",
       "        text-align: right;\n",
       "    }\n",
       "</style>\n",
       "<table border=\"1\" class=\"dataframe\">\n",
       "  <thead>\n",
       "    <tr style=\"text-align: right;\">\n",
       "      <th></th>\n",
       "      <th>id</th>\n",
       "      <th>title</th>\n",
       "      <th>tagline</th>\n",
       "      <th>description</th>\n",
       "      <th>genres</th>\n",
       "      <th>keywords</th>\n",
       "      <th>date</th>\n",
       "      <th>collection</th>\n",
       "      <th>runtime</th>\n",
       "      <th>revenue</th>\n",
       "      <th>...</th>\n",
       "      <th>director</th>\n",
       "      <th>cast</th>\n",
       "      <th>production_companies</th>\n",
       "      <th>production_countries</th>\n",
       "      <th>popularity</th>\n",
       "      <th>average_vote</th>\n",
       "      <th>num_votes</th>\n",
       "      <th>language</th>\n",
       "      <th>imdb_id</th>\n",
       "      <th>poster_url</th>\n",
       "    </tr>\n",
       "  </thead>\n",
       "  <tbody>\n",
       "    <tr>\n",
       "      <th>0</th>\n",
       "      <td>862</td>\n",
       "      <td>Toy Story</td>\n",
       "      <td>None</td>\n",
       "      <td>Led by Woody, Andy's toys live happily in his ...</td>\n",
       "      <td>animation, comedy, family</td>\n",
       "      <td>jealousy, toy, boy, friendship, friends, rival...</td>\n",
       "      <td>1995-10-30</td>\n",
       "      <td>Toy Story Collection</td>\n",
       "      <td>81</td>\n",
       "      <td>3.73554e+08</td>\n",
       "      <td>...</td>\n",
       "      <td>John Lasseter</td>\n",
       "      <td>Tom Hanks, Tim Allen, Don Rickles, Jim Varney,...</td>\n",
       "      <td>Pixar Animation Studios</td>\n",
       "      <td>United States of America</td>\n",
       "      <td>21.9469</td>\n",
       "      <td>7.7</td>\n",
       "      <td>5415</td>\n",
       "      <td>en</td>\n",
       "      <td>tt0114709</td>\n",
       "      <td>/rhIRbceoE9lR4veEXuwCC2wARtG.jpg</td>\n",
       "    </tr>\n",
       "    <tr>\n",
       "      <th>1</th>\n",
       "      <td>8844</td>\n",
       "      <td>Jumanji</td>\n",
       "      <td>Roll the dice and unleash the excitement!</td>\n",
       "      <td>When siblings Judy and Peter discover an encha...</td>\n",
       "      <td>adventure, fantasy, family</td>\n",
       "      <td>board game, disappearance, based on children's...</td>\n",
       "      <td>1995-12-15</td>\n",
       "      <td>None</td>\n",
       "      <td>104</td>\n",
       "      <td>2.62797e+08</td>\n",
       "      <td>...</td>\n",
       "      <td>Joe Johnston</td>\n",
       "      <td>Robin Williams, Jonathan Hyde, Kirsten Dunst, ...</td>\n",
       "      <td>TriStar Pictures, Teitler Film, Interscope Com...</td>\n",
       "      <td>United States of America</td>\n",
       "      <td>17.0155</td>\n",
       "      <td>6.9</td>\n",
       "      <td>2413</td>\n",
       "      <td>en</td>\n",
       "      <td>tt0113497</td>\n",
       "      <td>/vzmL6fP7aPKNKPRTFnZmiUfciyV.jpg</td>\n",
       "    </tr>\n",
       "  </tbody>\n",
       "</table>\n",
       "<p>2 rows × 21 columns</p>\n",
       "</div>"
      ],
      "text/plain": [
       "     id      title                                    tagline  \\\n",
       "0   862  Toy Story                                       None   \n",
       "1  8844    Jumanji  Roll the dice and unleash the excitement!   \n",
       "\n",
       "                                         description  \\\n",
       "0  Led by Woody, Andy's toys live happily in his ...   \n",
       "1  When siblings Judy and Peter discover an encha...   \n",
       "\n",
       "                       genres  \\\n",
       "0   animation, comedy, family   \n",
       "1  adventure, fantasy, family   \n",
       "\n",
       "                                            keywords        date  \\\n",
       "0  jealousy, toy, boy, friendship, friends, rival...  1995-10-30   \n",
       "1  board game, disappearance, based on children's...  1995-12-15   \n",
       "\n",
       "             collection runtime      revenue  ...       director  \\\n",
       "0  Toy Story Collection      81  3.73554e+08  ...  John Lasseter   \n",
       "1                  None     104  2.62797e+08  ...   Joe Johnston   \n",
       "\n",
       "                                                cast  \\\n",
       "0  Tom Hanks, Tim Allen, Don Rickles, Jim Varney,...   \n",
       "1  Robin Williams, Jonathan Hyde, Kirsten Dunst, ...   \n",
       "\n",
       "                                production_companies  \\\n",
       "0                            Pixar Animation Studios   \n",
       "1  TriStar Pictures, Teitler Film, Interscope Com...   \n",
       "\n",
       "       production_countries popularity average_vote num_votes language  \\\n",
       "0  United States of America    21.9469          7.7      5415       en   \n",
       "1  United States of America    17.0155          6.9      2413       en   \n",
       "\n",
       "     imdb_id                        poster_url  \n",
       "0  tt0114709  /rhIRbceoE9lR4veEXuwCC2wARtG.jpg  \n",
       "1  tt0113497  /vzmL6fP7aPKNKPRTFnZmiUfciyV.jpg  \n",
       "\n",
       "[2 rows x 21 columns]"
      ]
     },
     "execution_count": 2,
     "metadata": {},
     "output_type": "execute_result"
    }
   ],
   "source": [
    "# Load movies\n",
    "movies = pd.read_csv(\"../data/drive/movies.csv\", header=0)\n",
    "movies = movies.replace({np.nan: None}) # replace NaN with None\n",
    "movies.head(2)"
   ]
  },
  {
   "cell_type": "code",
   "execution_count": 3,
   "metadata": {},
   "outputs": [],
   "source": [
    "fail_request= list()\n",
    "def movie_revenue(movie_id:int)->float:\n",
    "    \"\"\"Getting movie revenue information.\"\"\"\n",
    "    URL = \"https://api.themoviedb.org/3/movie/{}?api_key=2d8e3000e80b3a5a64a5ff5ecce0ad7e\".format(movie_id)\n",
    "    r = requests.get(url = URL)\n",
    "    data = r.json()\n",
    "    if r.status_code==200:\n",
    "        revenue = data['revenue']\n",
    "    else:\n",
    "        fail_request.append(movie_id)\n",
    "        revenue = 0.0\n",
    "    return revenue"
   ]
  },
  {
   "cell_type": "code",
   "execution_count": 4,
   "metadata": {},
   "outputs": [],
   "source": [
    "#multiprocessing\n",
    "from multiprocessing import  Pool\n",
    "from functools import partial\n",
    "from os import cpu_count\n",
    " \n",
    "n_cpu = cpu_count()\n",
    " \n",
    "def parallelize(data, func, num_of_processes=n_cpu):\n",
    "    data_split = np.array_split(data, num_of_processes)\n",
    "    pool = Pool(num_of_processes)\n",
    "    data = pd.concat(pool.map(func, data_split))\n",
    "    pool.close()\n",
    "    pool.join()\n",
    "    return data\n",
    " \n",
    "def run_on_subset(func, data_subset):\n",
    "    return data_subset.progress_apply(func)\n",
    " \n",
    "def parallelize_on_rows(data, func, num_of_processes=n_cpu):\n",
    "    return parallelize(data, partial(run_on_subset, func), num_of_processes)"
   ]
  },
  {
   "cell_type": "code",
   "execution_count": 5,
   "metadata": {},
   "outputs": [
    {
     "name": "stderr",
     "output_type": "stream",
     "text": [
      "100%|██████████| 5829/5829 [38:01<00:00,  2.56it/s]  \n",
      "100%|██████████| 5829/5829 [56:51<00:00,  1.71it/s]  \n",
      "100%|██████████| 5828/5828 [1:00:24<00:00,  1.61it/s]\n",
      "100%|██████████| 5829/5829 [1:03:04<00:00,  1.54it/s]\n",
      "100%|██████████| 5828/5828 [1:03:08<00:00,  1.54it/s]\n",
      "100%|██████████| 5829/5829 [1:03:23<00:00,  1.53it/s]\n",
      "100%|██████████| 5828/5828 [1:03:29<00:00,  1.53it/s]\n",
      "100%|██████████| 5828/5828 [1:03:31<00:00,  1.53it/s]\n"
     ]
    }
   ],
   "source": [
    "#revenue['new_revenue'] = revenue['id'].progress_apply(lambda x: movie_revenue(str(x)))\n",
    "movies['new_revenue'] = parallelize_on_rows(movies['id'],movie_revenue)"
   ]
  },
  {
   "cell_type": "code",
   "execution_count": 6,
   "metadata": {},
   "outputs": [
    {
     "data": {
      "text/plain": [
       "[]"
      ]
     },
     "execution_count": 6,
     "metadata": {},
     "output_type": "execute_result"
    }
   ],
   "source": [
    "fail_request"
   ]
  },
  {
   "cell_type": "code",
   "execution_count": 7,
   "metadata": {},
   "outputs": [
    {
     "data": {
      "text/plain": [
       "1120"
      ]
     },
     "execution_count": 7,
     "metadata": {},
     "output_type": "execute_result"
    }
   ],
   "source": [
    "#Count additional data we get from tmdb api\n",
    "movies[movies['new_revenue']!=0].shape[0] - movies[movies['revenue']!=0].shape[0]"
   ]
  },
  {
   "cell_type": "code",
   "execution_count": 8,
   "metadata": {},
   "outputs": [
    {
     "data": {
      "text/plain": [
       "8661"
      ]
     },
     "execution_count": 8,
     "metadata": {},
     "output_type": "execute_result"
    }
   ],
   "source": [
    "movies[movies['new_revenue']!=0].shape[0]"
   ]
  },
  {
   "cell_type": "code",
   "execution_count": null,
   "metadata": {},
   "outputs": [],
   "source": []
  }
 ],
 "metadata": {
  "kernelspec": {
   "display_name": "Python 3",
   "language": "python",
   "name": "python3"
  },
  "language_info": {
   "codemirror_mode": {
    "name": "ipython",
    "version": 3
   },
   "file_extension": ".py",
   "mimetype": "text/x-python",
   "name": "python",
   "nbconvert_exporter": "python",
   "pygments_lexer": "ipython3",
   "version": "3.6.6"
  }
 },
 "nbformat": 4,
 "nbformat_minor": 2
}
